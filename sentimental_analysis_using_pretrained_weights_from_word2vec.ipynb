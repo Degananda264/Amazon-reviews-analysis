{
  "nbformat": 4,
  "nbformat_minor": 0,
  "metadata": {
    "colab": {
      "name": "sentimental analysis using pretrained weights from word2vec.ipynb",
      "provenance": [],
      "authorship_tag": "ABX9TyMqLbdBIABM7R+KN8X0c0cM",
      "include_colab_link": true
    },
    "kernelspec": {
      "name": "python3",
      "display_name": "Python 3"
    },
    "accelerator": "GPU"
  },
  "cells": [
    {
      "cell_type": "markdown",
      "metadata": {
        "id": "view-in-github",
        "colab_type": "text"
      },
      "source": [
        "<a href=\"https://colab.research.google.com/github/Degananda264/Amazon-reviews-analysis/blob/master/sentimental_analysis_using_pretrained_weights_from_word2vec.ipynb\" target=\"_parent\"><img src=\"https://colab.research.google.com/assets/colab-badge.svg\" alt=\"Open In Colab\"/></a>"
      ]
    },
    {
      "cell_type": "code",
      "metadata": {
        "id": "p-vdn6e4C6Wa",
        "colab_type": "code",
        "colab": {
          "base_uri": "https://localhost:8080/",
          "height": 68
        },
        "outputId": "e90e91cc-8099-4281-dad0-f7b25a6623ce"
      },
      "source": [
        "#Import Libraries\n",
        "import pandas as pd\n",
        "import numpy as np\n",
        "import string\n",
        "import nltk\n",
        "from nltk.tokenize import RegexpTokenizer\n",
        "import re\n",
        "from nltk.corpus import stopwords\n",
        "nltk.download('stopwords')"
      ],
      "execution_count": 3,
      "outputs": [
        {
          "output_type": "stream",
          "text": [
            "[nltk_data] Downloading package stopwords to /root/nltk_data...\n",
            "[nltk_data]   Unzipping corpora/stopwords.zip.\n"
          ],
          "name": "stdout"
        },
        {
          "output_type": "execute_result",
          "data": {
            "text/plain": [
              "True"
            ]
          },
          "metadata": {
            "tags": []
          },
          "execution_count": 3
        }
      ]
    },
    {
      "cell_type": "code",
      "metadata": {
        "id": "VCPRGauMDs6c",
        "colab_type": "code",
        "colab": {
          "base_uri": "https://localhost:8080/",
          "height": 204
        },
        "outputId": "a3edee52-2522-4f81-db77-0bb696291e5b"
      },
      "source": [
        "\n",
        "#Create dataframe and store the data from IMDB_Dataset.csv\n",
        "data = pd.DataFrame()\n",
        "data = pd.read_csv('reviews.csv', encoding='utf-8')\n",
        "data.head()"
      ],
      "execution_count": 4,
      "outputs": [
        {
          "output_type": "execute_result",
          "data": {
            "text/html": [
              "<div>\n",
              "<style scoped>\n",
              "    .dataframe tbody tr th:only-of-type {\n",
              "        vertical-align: middle;\n",
              "    }\n",
              "\n",
              "    .dataframe tbody tr th {\n",
              "        vertical-align: top;\n",
              "    }\n",
              "\n",
              "    .dataframe thead th {\n",
              "        text-align: right;\n",
              "    }\n",
              "</style>\n",
              "<table border=\"1\" class=\"dataframe\">\n",
              "  <thead>\n",
              "    <tr style=\"text-align: right;\">\n",
              "      <th></th>\n",
              "      <th>Unnamed: 0</th>\n",
              "      <th>text</th>\n",
              "      <th>sentiment</th>\n",
              "    </tr>\n",
              "  </thead>\n",
              "  <tbody>\n",
              "    <tr>\n",
              "      <th>0</th>\n",
              "      <td>0</td>\n",
              "      <td>got them fast. i burned about six discs right ...</td>\n",
              "      <td>1</td>\n",
              "    </tr>\n",
              "    <tr>\n",
              "      <th>1</th>\n",
              "      <td>1</td>\n",
              "      <td>Well, it fits my nano 4 quite well. And the pr...</td>\n",
              "      <td>1</td>\n",
              "    </tr>\n",
              "    <tr>\n",
              "      <th>2</th>\n",
              "      <td>2</td>\n",
              "      <td>The battery arrived on the promised date, and ...</td>\n",
              "      <td>1</td>\n",
              "    </tr>\n",
              "    <tr>\n",
              "      <th>3</th>\n",
              "      <td>3</td>\n",
              "      <td>Bought this one from Amazon, sold by the MiniS...</td>\n",
              "      <td>1</td>\n",
              "    </tr>\n",
              "    <tr>\n",
              "      <th>4</th>\n",
              "      <td>4</td>\n",
              "      <td>So i ordered 3 chargers and surprisingly, they...</td>\n",
              "      <td>0</td>\n",
              "    </tr>\n",
              "  </tbody>\n",
              "</table>\n",
              "</div>"
            ],
            "text/plain": [
              "   Unnamed: 0                                               text  sentiment\n",
              "0           0  got them fast. i burned about six discs right ...          1\n",
              "1           1  Well, it fits my nano 4 quite well. And the pr...          1\n",
              "2           2  The battery arrived on the promised date, and ...          1\n",
              "3           3  Bought this one from Amazon, sold by the MiniS...          1\n",
              "4           4  So i ordered 3 chargers and surprisingly, they...          0"
            ]
          },
          "metadata": {
            "tags": []
          },
          "execution_count": 4
        }
      ]
    },
    {
      "cell_type": "code",
      "metadata": {
        "id": "LB1Uw8VSFVhh",
        "colab_type": "code",
        "colab": {}
      },
      "source": [
        "data=data.drop('Unnamed: 0',axis=1)"
      ],
      "execution_count": 5,
      "outputs": []
    },
    {
      "cell_type": "code",
      "metadata": {
        "id": "tybZZrVFFhvU",
        "colab_type": "code",
        "colab": {
          "base_uri": "https://localhost:8080/",
          "height": 34
        },
        "outputId": "55aec13b-b0e1-4277-ec88-af77828abf24"
      },
      "source": [
        "data.shape"
      ],
      "execution_count": 6,
      "outputs": [
        {
          "output_type": "execute_result",
          "data": {
            "text/plain": [
              "(104975, 2)"
            ]
          },
          "metadata": {
            "tags": []
          },
          "execution_count": 6
        }
      ]
    },
    {
      "cell_type": "code",
      "metadata": {
        "id": "MOnUyRWAOV_U",
        "colab_type": "code",
        "colab": {
          "base_uri": "https://localhost:8080/",
          "height": 204
        },
        "outputId": "1dcc0192-050f-4690-bb11-a09daedd7f9c"
      },
      "source": [
        "data.head()"
      ],
      "execution_count": 7,
      "outputs": [
        {
          "output_type": "execute_result",
          "data": {
            "text/html": [
              "<div>\n",
              "<style scoped>\n",
              "    .dataframe tbody tr th:only-of-type {\n",
              "        vertical-align: middle;\n",
              "    }\n",
              "\n",
              "    .dataframe tbody tr th {\n",
              "        vertical-align: top;\n",
              "    }\n",
              "\n",
              "    .dataframe thead th {\n",
              "        text-align: right;\n",
              "    }\n",
              "</style>\n",
              "<table border=\"1\" class=\"dataframe\">\n",
              "  <thead>\n",
              "    <tr style=\"text-align: right;\">\n",
              "      <th></th>\n",
              "      <th>text</th>\n",
              "      <th>sentiment</th>\n",
              "    </tr>\n",
              "  </thead>\n",
              "  <tbody>\n",
              "    <tr>\n",
              "      <th>0</th>\n",
              "      <td>got them fast. i burned about six discs right ...</td>\n",
              "      <td>1</td>\n",
              "    </tr>\n",
              "    <tr>\n",
              "      <th>1</th>\n",
              "      <td>Well, it fits my nano 4 quite well. And the pr...</td>\n",
              "      <td>1</td>\n",
              "    </tr>\n",
              "    <tr>\n",
              "      <th>2</th>\n",
              "      <td>The battery arrived on the promised date, and ...</td>\n",
              "      <td>1</td>\n",
              "    </tr>\n",
              "    <tr>\n",
              "      <th>3</th>\n",
              "      <td>Bought this one from Amazon, sold by the MiniS...</td>\n",
              "      <td>1</td>\n",
              "    </tr>\n",
              "    <tr>\n",
              "      <th>4</th>\n",
              "      <td>So i ordered 3 chargers and surprisingly, they...</td>\n",
              "      <td>0</td>\n",
              "    </tr>\n",
              "  </tbody>\n",
              "</table>\n",
              "</div>"
            ],
            "text/plain": [
              "                                                text  sentiment\n",
              "0  got them fast. i burned about six discs right ...          1\n",
              "1  Well, it fits my nano 4 quite well. And the pr...          1\n",
              "2  The battery arrived on the promised date, and ...          1\n",
              "3  Bought this one from Amazon, sold by the MiniS...          1\n",
              "4  So i ordered 3 chargers and surprisingly, they...          0"
            ]
          },
          "metadata": {
            "tags": []
          },
          "execution_count": 7
        }
      ]
    },
    {
      "cell_type": "code",
      "metadata": {
        "id": "IFuEaOjGP8_x",
        "colab_type": "code",
        "colab": {
          "base_uri": "https://localhost:8080/",
          "height": 80
        },
        "outputId": "c6f7df06-17a7-4743-8a30-f4be6da8a0f2"
      },
      "source": [
        "data[data['text'].isnull()==True]\n"
      ],
      "execution_count": 8,
      "outputs": [
        {
          "output_type": "execute_result",
          "data": {
            "text/html": [
              "<div>\n",
              "<style scoped>\n",
              "    .dataframe tbody tr th:only-of-type {\n",
              "        vertical-align: middle;\n",
              "    }\n",
              "\n",
              "    .dataframe tbody tr th {\n",
              "        vertical-align: top;\n",
              "    }\n",
              "\n",
              "    .dataframe thead th {\n",
              "        text-align: right;\n",
              "    }\n",
              "</style>\n",
              "<table border=\"1\" class=\"dataframe\">\n",
              "  <thead>\n",
              "    <tr style=\"text-align: right;\">\n",
              "      <th></th>\n",
              "      <th>text</th>\n",
              "      <th>sentiment</th>\n",
              "    </tr>\n",
              "  </thead>\n",
              "  <tbody>\n",
              "    <tr>\n",
              "      <th>77812</th>\n",
              "      <td>NaN</td>\n",
              "      <td>1</td>\n",
              "    </tr>\n",
              "  </tbody>\n",
              "</table>\n",
              "</div>"
            ],
            "text/plain": [
              "      text  sentiment\n",
              "77812  NaN          1"
            ]
          },
          "metadata": {
            "tags": []
          },
          "execution_count": 8
        }
      ]
    },
    {
      "cell_type": "code",
      "metadata": {
        "id": "3lFbL5yFQCvu",
        "colab_type": "code",
        "colab": {}
      },
      "source": [
        "data=data.drop(77812)"
      ],
      "execution_count": 9,
      "outputs": []
    },
    {
      "cell_type": "code",
      "metadata": {
        "id": "cTnjHiL3QG17",
        "colab_type": "code",
        "colab": {
          "base_uri": "https://localhost:8080/",
          "height": 49
        },
        "outputId": "81898a2a-17b3-42cc-eb12-772eb56ca99b"
      },
      "source": [
        "data[data['text'].isnull()==True]"
      ],
      "execution_count": 10,
      "outputs": [
        {
          "output_type": "execute_result",
          "data": {
            "text/html": [
              "<div>\n",
              "<style scoped>\n",
              "    .dataframe tbody tr th:only-of-type {\n",
              "        vertical-align: middle;\n",
              "    }\n",
              "\n",
              "    .dataframe tbody tr th {\n",
              "        vertical-align: top;\n",
              "    }\n",
              "\n",
              "    .dataframe thead th {\n",
              "        text-align: right;\n",
              "    }\n",
              "</style>\n",
              "<table border=\"1\" class=\"dataframe\">\n",
              "  <thead>\n",
              "    <tr style=\"text-align: right;\">\n",
              "      <th></th>\n",
              "      <th>text</th>\n",
              "      <th>sentiment</th>\n",
              "    </tr>\n",
              "  </thead>\n",
              "  <tbody>\n",
              "  </tbody>\n",
              "</table>\n",
              "</div>"
            ],
            "text/plain": [
              "Empty DataFrame\n",
              "Columns: [text, sentiment]\n",
              "Index: []"
            ]
          },
          "metadata": {
            "tags": []
          },
          "execution_count": 10
        }
      ]
    },
    {
      "cell_type": "code",
      "metadata": {
        "id": "miYCufW-QLg2",
        "colab_type": "code",
        "colab": {}
      },
      "source": [
        "data=data.reset_index()"
      ],
      "execution_count": 11,
      "outputs": []
    },
    {
      "cell_type": "code",
      "metadata": {
        "id": "qlM4QI9wQQGR",
        "colab_type": "code",
        "colab": {}
      },
      "source": [
        "data.drop('index',axis=1,inplace=True)"
      ],
      "execution_count": 12,
      "outputs": []
    },
    {
      "cell_type": "code",
      "metadata": {
        "id": "UYVJOFsCQTSV",
        "colab_type": "code",
        "colab": {
          "base_uri": "https://localhost:8080/",
          "height": 204
        },
        "outputId": "b1a9ca16-195b-4f8c-fea2-a21ead90d12a"
      },
      "source": [
        "data.head()"
      ],
      "execution_count": 13,
      "outputs": [
        {
          "output_type": "execute_result",
          "data": {
            "text/html": [
              "<div>\n",
              "<style scoped>\n",
              "    .dataframe tbody tr th:only-of-type {\n",
              "        vertical-align: middle;\n",
              "    }\n",
              "\n",
              "    .dataframe tbody tr th {\n",
              "        vertical-align: top;\n",
              "    }\n",
              "\n",
              "    .dataframe thead th {\n",
              "        text-align: right;\n",
              "    }\n",
              "</style>\n",
              "<table border=\"1\" class=\"dataframe\">\n",
              "  <thead>\n",
              "    <tr style=\"text-align: right;\">\n",
              "      <th></th>\n",
              "      <th>text</th>\n",
              "      <th>sentiment</th>\n",
              "    </tr>\n",
              "  </thead>\n",
              "  <tbody>\n",
              "    <tr>\n",
              "      <th>0</th>\n",
              "      <td>got them fast. i burned about six discs right ...</td>\n",
              "      <td>1</td>\n",
              "    </tr>\n",
              "    <tr>\n",
              "      <th>1</th>\n",
              "      <td>Well, it fits my nano 4 quite well. And the pr...</td>\n",
              "      <td>1</td>\n",
              "    </tr>\n",
              "    <tr>\n",
              "      <th>2</th>\n",
              "      <td>The battery arrived on the promised date, and ...</td>\n",
              "      <td>1</td>\n",
              "    </tr>\n",
              "    <tr>\n",
              "      <th>3</th>\n",
              "      <td>Bought this one from Amazon, sold by the MiniS...</td>\n",
              "      <td>1</td>\n",
              "    </tr>\n",
              "    <tr>\n",
              "      <th>4</th>\n",
              "      <td>So i ordered 3 chargers and surprisingly, they...</td>\n",
              "      <td>0</td>\n",
              "    </tr>\n",
              "  </tbody>\n",
              "</table>\n",
              "</div>"
            ],
            "text/plain": [
              "                                                text  sentiment\n",
              "0  got them fast. i burned about six discs right ...          1\n",
              "1  Well, it fits my nano 4 quite well. And the pr...          1\n",
              "2  The battery arrived on the promised date, and ...          1\n",
              "3  Bought this one from Amazon, sold by the MiniS...          1\n",
              "4  So i ordered 3 chargers and surprisingly, they...          0"
            ]
          },
          "metadata": {
            "tags": []
          },
          "execution_count": 13
        }
      ]
    },
    {
      "cell_type": "code",
      "metadata": {
        "id": "2xmsffybFn79",
        "colab_type": "code",
        "colab": {
          "base_uri": "https://localhost:8080/",
          "height": 34
        },
        "outputId": "12ca8aff-f3ef-49c9-acf7-e2b5456230cb"
      },
      "source": [
        "  \n",
        "#create empty list\n",
        "review_data_list = list()\n",
        "\n",
        "indv_lines = data['text'].values.tolist()\n",
        "for line in indv_lines:\n",
        "\n",
        "\t#create word tokens as well as remove puntuation in one go\n",
        "\trem_tok_punc = RegexpTokenizer(r'\\w+')\n",
        "\n",
        "\ttokens = rem_tok_punc.tokenize(str(line))\n",
        "\n",
        "\n",
        "\t#convert the words to lower case\n",
        "\twords = [w.lower() for w in tokens]\n",
        "\n",
        "\t#Invoke all the english stopwords\n",
        "\tstop_word_list = set(stopwords.words('english'))\n",
        "\n",
        "\t#Remove stop words\n",
        "\twords = [w for w in words if not w in stop_word_list]\n",
        "\n",
        "\t#Append words in the review_data_list list.\n",
        "\treview_data_list.append(words)\n",
        "len(review_data_list)"
      ],
      "execution_count": 14,
      "outputs": [
        {
          "output_type": "execute_result",
          "data": {
            "text/plain": [
              "104974"
            ]
          },
          "metadata": {
            "tags": []
          },
          "execution_count": 14
        }
      ]
    },
    {
      "cell_type": "code",
      "metadata": {
        "id": "rqmRAQfZFyLy",
        "colab_type": "code",
        "colab": {
          "base_uri": "https://localhost:8080/",
          "height": 34
        },
        "outputId": "d777d2ad-fc7b-44e2-8bd3-6eef674d95e2"
      },
      "source": [
        "\n",
        "#Train a Word2Vec model using Gensim\n",
        "import gensim\n",
        "Embedding_Dim = 100\n",
        "#train word2vec model\n",
        "model = gensim.models.Word2Vec(sentences = review_data_list, size = Embedding_Dim, workers = 4, min_count = 1)\n",
        "#Vocabulary size\n",
        "words = list(model.wv.vocab)\n",
        "print('Here is the Vocabulary Size.. %d' % len(words))"
      ],
      "execution_count": 15,
      "outputs": [
        {
          "output_type": "stream",
          "text": [
            "Here is the Vocabulary Size.. 56136\n"
          ],
          "name": "stdout"
        }
      ]
    },
    {
      "cell_type": "code",
      "metadata": {
        "id": "yeWYqK3eJdN5",
        "colab_type": "code",
        "colab": {
          "base_uri": "https://localhost:8080/",
          "height": 241
        },
        "outputId": "79e4737f-9dde-47f8-f6c2-b6397c4ed6cd"
      },
      "source": [
        "#Finding similar words\n",
        "model.wv.most_similar('amazing')"
      ],
      "execution_count": 16,
      "outputs": [
        {
          "output_type": "stream",
          "text": [
            "/usr/local/lib/python3.6/dist-packages/gensim/matutils.py:737: FutureWarning: Conversion of the second argument of issubdtype from `int` to `np.signedinteger` is deprecated. In future, it will be treated as `np.int64 == np.dtype(int).type`.\n",
            "  if np.issubdtype(vec.dtype, np.int):\n"
          ],
          "name": "stderr"
        },
        {
          "output_type": "execute_result",
          "data": {
            "text/plain": [
              "[('awesome', 0.8496578335762024),\n",
              " ('fantastic', 0.8327206373214722),\n",
              " ('incredible', 0.7955472469329834),\n",
              " ('wonderful', 0.7175741195678711),\n",
              " ('unbelievable', 0.717313289642334),\n",
              " ('amazed', 0.704282283782959),\n",
              " ('terrific', 0.7039431929588318),\n",
              " ('outstanding', 0.6946271657943726),\n",
              " ('great', 0.693986177444458),\n",
              " ('impressive', 0.6926626563072205)]"
            ]
          },
          "metadata": {
            "tags": []
          },
          "execution_count": 16
        }
      ]
    },
    {
      "cell_type": "code",
      "metadata": {
        "id": "tud3KEjfJzjg",
        "colab_type": "code",
        "colab": {
          "base_uri": "https://localhost:8080/",
          "height": 241
        },
        "outputId": "b8c061e9-856f-439e-cdac-eeece979da77"
      },
      "source": [
        "model.wv.most_similar('awful')"
      ],
      "execution_count": 17,
      "outputs": [
        {
          "output_type": "stream",
          "text": [
            "/usr/local/lib/python3.6/dist-packages/gensim/matutils.py:737: FutureWarning: Conversion of the second argument of issubdtype from `int` to `np.signedinteger` is deprecated. In future, it will be treated as `np.int64 == np.dtype(int).type`.\n",
            "  if np.issubdtype(vec.dtype, np.int):\n"
          ],
          "name": "stderr"
        },
        {
          "output_type": "execute_result",
          "data": {
            "text/plain": [
              "[('horrible', 0.8600413799285889),\n",
              " ('terrible', 0.859093964099884),\n",
              " ('disappointing', 0.7036134600639343),\n",
              " ('joke', 0.6877796649932861),\n",
              " ('alright', 0.6759347915649414),\n",
              " ('poor', 0.6679002642631531),\n",
              " ('worthless', 0.665691614151001),\n",
              " ('crappy', 0.665337324142456),\n",
              " ('sucks', 0.6562924385070801),\n",
              " ('lousy', 0.655255913734436)]"
            ]
          },
          "metadata": {
            "tags": []
          },
          "execution_count": 17
        }
      ]
    },
    {
      "cell_type": "code",
      "metadata": {
        "id": "8GvL8EWyJ4my",
        "colab_type": "code",
        "colab": {
          "base_uri": "https://localhost:8080/",
          "height": 122
        },
        "outputId": "3c472798-0735-4aa5-804d-087a6bd07917"
      },
      "source": [
        "#Finding the odd word out from the list of words given\n",
        "print(model.wv.doesnt_match(\"man woman car\".split()))"
      ],
      "execution_count": 18,
      "outputs": [
        {
          "output_type": "stream",
          "text": [
            "car\n"
          ],
          "name": "stdout"
        },
        {
          "output_type": "stream",
          "text": [
            "/usr/local/lib/python3.6/dist-packages/gensim/models/keyedvectors.py:895: FutureWarning: arrays to stack must be passed as a \"sequence\" type such as list or tuple. Support for non-sequence iterables such as generators is deprecated as of NumPy 1.16 and will raise an error in the future.\n",
            "  vectors = vstack(self.word_vec(word, use_norm=True) for word in used_words).astype(REAL)\n",
            "/usr/local/lib/python3.6/dist-packages/gensim/matutils.py:737: FutureWarning: Conversion of the second argument of issubdtype from `int` to `np.signedinteger` is deprecated. In future, it will be treated as `np.int64 == np.dtype(int).type`.\n",
            "  if np.issubdtype(vec.dtype, np.int):\n"
          ],
          "name": "stderr"
        }
      ]
    },
    {
      "cell_type": "code",
      "metadata": {
        "id": "9RmArLKUJ99g",
        "colab_type": "code",
        "colab": {
          "base_uri": "https://localhost:8080/",
          "height": 858
        },
        "outputId": "60bec4ae-0a65-469a-d0c8-ee1ac20bb26c"
      },
      "source": [
        "# Importing bokeh libraries for showing how words of similar context are grouped together\n",
        "import bokeh.plotting as bp\n",
        "from bokeh.models import HoverTool, BoxSelectTool\n",
        "from bokeh.plotting import figure, show, output_notebook\n",
        "\n",
        "#Defining the chart\n",
        "output_notebook()\n",
        "plot_chart = bp.figure(plot_width=700, plot_height=600, title=\"A map/plot of 5000 word vectors\",\n",
        "    tools=\"pan,wheel_zoom,box_zoom,reset,hover,previewsave\",\n",
        "    x_axis_type=None, y_axis_type=None, min_border=1)\n",
        "\n",
        "#Extracting the list of word vectors, limiting to 5000, each is of 200 dimensions\n",
        "word_vectors = [model[w] for w in list(model.wv.vocab.keys())[:5000]]\n",
        "\n",
        "# Reducing dimensionality by converting the vectors to 2d vectors\n",
        "from sklearn.manifold import TSNE\n",
        "tsne_model = TSNE(n_components=2, verbose=1, random_state=0)\n",
        "tsne_w2v = tsne_model.fit_transform(word_vectors)\n",
        "\n",
        "# Storing data in a dataframe\n",
        "tsne_df = pd.DataFrame(tsne_w2v, columns=['x', 'y'])\n",
        "tsne_df['words'] = list(model.wv.vocab.keys())[:5000]\n",
        "\n",
        "# Corresponding word appears when you hover on the data point.\n",
        "plot_chart.scatter(x='x', y='y', source=tsne_df)\n",
        "hover = plot_chart.select(dict(type=HoverTool))\n",
        "hover.tooltips={\"word\": \"@words\"}\n",
        "show(plot_chart)"
      ],
      "execution_count": 19,
      "outputs": [
        {
          "output_type": "stream",
          "text": [
            "/usr/local/lib/python3.6/dist-packages/ipykernel_launcher.py:13: DeprecationWarning: Call to deprecated `__getitem__` (Method will be removed in 4.0.0, use self.wv.__getitem__() instead).\n",
            "  del sys.path[0]\n"
          ],
          "name": "stderr"
        },
        {
          "output_type": "stream",
          "text": [
            "[t-SNE] Computing 91 nearest neighbors...\n",
            "[t-SNE] Indexed 5000 samples in 0.052s...\n",
            "[t-SNE] Computed neighbors for 5000 samples in 5.099s...\n",
            "[t-SNE] Computed conditional probabilities for sample 1000 / 5000\n",
            "[t-SNE] Computed conditional probabilities for sample 2000 / 5000\n",
            "[t-SNE] Computed conditional probabilities for sample 3000 / 5000\n",
            "[t-SNE] Computed conditional probabilities for sample 4000 / 5000\n",
            "[t-SNE] Computed conditional probabilities for sample 5000 / 5000\n",
            "[t-SNE] Mean sigma: 0.174640\n",
            "[t-SNE] KL divergence after 250 iterations with early exaggeration: 83.293144\n",
            "[t-SNE] KL divergence after 1000 iterations: 2.244368\n"
          ],
          "name": "stdout"
        },
        {
          "output_type": "display_data",
          "data": {
            "application/javascript": [
              "\n",
              "(function(root) {\n",
              "  function now() {\n",
              "    return new Date();\n",
              "  }\n",
              "\n",
              "  var force = true;\n",
              "\n",
              "  if (typeof root._bokeh_onload_callbacks === \"undefined\" || force === true) {\n",
              "    root._bokeh_onload_callbacks = [];\n",
              "    root._bokeh_is_loading = undefined;\n",
              "  }\n",
              "\n",
              "  var JS_MIME_TYPE = 'application/javascript';\n",
              "  var HTML_MIME_TYPE = 'text/html';\n",
              "  var EXEC_MIME_TYPE = 'application/vnd.bokehjs_exec.v0+json';\n",
              "  var CLASS_NAME = 'output_bokeh rendered_html';\n",
              "\n",
              "  /**\n",
              "   * Render data to the DOM node\n",
              "   */\n",
              "  function render(props, node) {\n",
              "    var script = document.createElement(\"script\");\n",
              "    node.appendChild(script);\n",
              "  }\n",
              "\n",
              "  /**\n",
              "   * Handle when an output is cleared or removed\n",
              "   */\n",
              "  function handleClearOutput(event, handle) {\n",
              "    var cell = handle.cell;\n",
              "\n",
              "    var id = cell.output_area._bokeh_element_id;\n",
              "    var server_id = cell.output_area._bokeh_server_id;\n",
              "    // Clean up Bokeh references\n",
              "    if (id != null && id in Bokeh.index) {\n",
              "      Bokeh.index[id].model.document.clear();\n",
              "      delete Bokeh.index[id];\n",
              "    }\n",
              "\n",
              "    if (server_id !== undefined) {\n",
              "      // Clean up Bokeh references\n",
              "      var cmd = \"from bokeh.io.state import curstate; print(curstate().uuid_to_server['\" + server_id + \"'].get_sessions()[0].document.roots[0]._id)\";\n",
              "      cell.notebook.kernel.execute(cmd, {\n",
              "        iopub: {\n",
              "          output: function(msg) {\n",
              "            var id = msg.content.text.trim();\n",
              "            if (id in Bokeh.index) {\n",
              "              Bokeh.index[id].model.document.clear();\n",
              "              delete Bokeh.index[id];\n",
              "            }\n",
              "          }\n",
              "        }\n",
              "      });\n",
              "      // Destroy server and session\n",
              "      var cmd = \"import bokeh.io.notebook as ion; ion.destroy_server('\" + server_id + \"')\";\n",
              "      cell.notebook.kernel.execute(cmd);\n",
              "    }\n",
              "  }\n",
              "\n",
              "  /**\n",
              "   * Handle when a new output is added\n",
              "   */\n",
              "  function handleAddOutput(event, handle) {\n",
              "    var output_area = handle.output_area;\n",
              "    var output = handle.output;\n",
              "\n",
              "    // limit handleAddOutput to display_data with EXEC_MIME_TYPE content only\n",
              "    if ((output.output_type != \"display_data\") || (!output.data.hasOwnProperty(EXEC_MIME_TYPE))) {\n",
              "      return\n",
              "    }\n",
              "\n",
              "    var toinsert = output_area.element.find(\".\" + CLASS_NAME.split(' ')[0]);\n",
              "\n",
              "    if (output.metadata[EXEC_MIME_TYPE][\"id\"] !== undefined) {\n",
              "      toinsert[toinsert.length - 1].firstChild.textContent = output.data[JS_MIME_TYPE];\n",
              "      // store reference to embed id on output_area\n",
              "      output_area._bokeh_element_id = output.metadata[EXEC_MIME_TYPE][\"id\"];\n",
              "    }\n",
              "    if (output.metadata[EXEC_MIME_TYPE][\"server_id\"] !== undefined) {\n",
              "      var bk_div = document.createElement(\"div\");\n",
              "      bk_div.innerHTML = output.data[HTML_MIME_TYPE];\n",
              "      var script_attrs = bk_div.children[0].attributes;\n",
              "      for (var i = 0; i < script_attrs.length; i++) {\n",
              "        toinsert[toinsert.length - 1].firstChild.setAttribute(script_attrs[i].name, script_attrs[i].value);\n",
              "      }\n",
              "      // store reference to server id on output_area\n",
              "      output_area._bokeh_server_id = output.metadata[EXEC_MIME_TYPE][\"server_id\"];\n",
              "    }\n",
              "  }\n",
              "\n",
              "  function register_renderer(events, OutputArea) {\n",
              "\n",
              "    function append_mime(data, metadata, element) {\n",
              "      // create a DOM node to render to\n",
              "      var toinsert = this.create_output_subarea(\n",
              "        metadata,\n",
              "        CLASS_NAME,\n",
              "        EXEC_MIME_TYPE\n",
              "      );\n",
              "      this.keyboard_manager.register_events(toinsert);\n",
              "      // Render to node\n",
              "      var props = {data: data, metadata: metadata[EXEC_MIME_TYPE]};\n",
              "      render(props, toinsert[toinsert.length - 1]);\n",
              "      element.append(toinsert);\n",
              "      return toinsert\n",
              "    }\n",
              "\n",
              "    /* Handle when an output is cleared or removed */\n",
              "    events.on('clear_output.CodeCell', handleClearOutput);\n",
              "    events.on('delete.Cell', handleClearOutput);\n",
              "\n",
              "    /* Handle when a new output is added */\n",
              "    events.on('output_added.OutputArea', handleAddOutput);\n",
              "\n",
              "    /**\n",
              "     * Register the mime type and append_mime function with output_area\n",
              "     */\n",
              "    OutputArea.prototype.register_mime_type(EXEC_MIME_TYPE, append_mime, {\n",
              "      /* Is output safe? */\n",
              "      safe: true,\n",
              "      /* Index of renderer in `output_area.display_order` */\n",
              "      index: 0\n",
              "    });\n",
              "  }\n",
              "\n",
              "  // register the mime type if in Jupyter Notebook environment and previously unregistered\n",
              "  if (root.Jupyter !== undefined) {\n",
              "    var events = require('base/js/events');\n",
              "    var OutputArea = require('notebook/js/outputarea').OutputArea;\n",
              "\n",
              "    if (OutputArea.prototype.mime_types().indexOf(EXEC_MIME_TYPE) == -1) {\n",
              "      register_renderer(events, OutputArea);\n",
              "    }\n",
              "  }\n",
              "\n",
              "  \n",
              "  if (typeof (root._bokeh_timeout) === \"undefined\" || force === true) {\n",
              "    root._bokeh_timeout = Date.now() + 5000;\n",
              "    root._bokeh_failed_load = false;\n",
              "  }\n",
              "\n",
              "  var NB_LOAD_WARNING = {'data': {'text/html':\n",
              "     \"<div style='background-color: #fdd'>\\n\"+\n",
              "     \"<p>\\n\"+\n",
              "     \"BokehJS does not appear to have successfully loaded. If loading BokehJS from CDN, this \\n\"+\n",
              "     \"may be due to a slow or bad network connection. Possible fixes:\\n\"+\n",
              "     \"</p>\\n\"+\n",
              "     \"<ul>\\n\"+\n",
              "     \"<li>re-rerun `output_notebook()` to attempt to load from CDN again, or</li>\\n\"+\n",
              "     \"<li>use INLINE resources instead, as so:</li>\\n\"+\n",
              "     \"</ul>\\n\"+\n",
              "     \"<code>\\n\"+\n",
              "     \"from bokeh.resources import INLINE\\n\"+\n",
              "     \"output_notebook(resources=INLINE)\\n\"+\n",
              "     \"</code>\\n\"+\n",
              "     \"</div>\"}};\n",
              "\n",
              "  function display_loaded() {\n",
              "    var el = document.getElementById(null);\n",
              "    if (el != null) {\n",
              "      el.textContent = \"BokehJS is loading...\";\n",
              "    }\n",
              "    if (root.Bokeh !== undefined) {\n",
              "      if (el != null) {\n",
              "        el.textContent = \"BokehJS \" + root.Bokeh.version + \" successfully loaded.\";\n",
              "      }\n",
              "    } else if (Date.now() < root._bokeh_timeout) {\n",
              "      setTimeout(display_loaded, 100)\n",
              "    }\n",
              "  }\n",
              "\n",
              "\n",
              "  function run_callbacks() {\n",
              "    try {\n",
              "      root._bokeh_onload_callbacks.forEach(function(callback) {\n",
              "        if (callback != null)\n",
              "          callback();\n",
              "      });\n",
              "    } finally {\n",
              "      delete root._bokeh_onload_callbacks\n",
              "    }\n",
              "    console.debug(\"Bokeh: all callbacks have finished\");\n",
              "  }\n",
              "\n",
              "  function load_libs(css_urls, js_urls, callback) {\n",
              "    if (css_urls == null) css_urls = [];\n",
              "    if (js_urls == null) js_urls = [];\n",
              "\n",
              "    root._bokeh_onload_callbacks.push(callback);\n",
              "    if (root._bokeh_is_loading > 0) {\n",
              "      console.debug(\"Bokeh: BokehJS is being loaded, scheduling callback at\", now());\n",
              "      return null;\n",
              "    }\n",
              "    if (js_urls == null || js_urls.length === 0) {\n",
              "      run_callbacks();\n",
              "      return null;\n",
              "    }\n",
              "    console.debug(\"Bokeh: BokehJS not loaded, scheduling load and callback at\", now());\n",
              "    root._bokeh_is_loading = css_urls.length + js_urls.length;\n",
              "\n",
              "    function on_load() {\n",
              "      root._bokeh_is_loading--;\n",
              "      if (root._bokeh_is_loading === 0) {\n",
              "        console.debug(\"Bokeh: all BokehJS libraries/stylesheets loaded\");\n",
              "        run_callbacks()\n",
              "      }\n",
              "    }\n",
              "\n",
              "    function on_error() {\n",
              "      console.error(\"failed to load \" + url);\n",
              "    }\n",
              "\n",
              "    for (var i = 0; i < css_urls.length; i++) {\n",
              "      var url = css_urls[i];\n",
              "      const element = document.createElement(\"link\");\n",
              "      element.onload = on_load;\n",
              "      element.onerror = on_error;\n",
              "      element.rel = \"stylesheet\";\n",
              "      element.type = \"text/css\";\n",
              "      element.href = url;\n",
              "      console.debug(\"Bokeh: injecting link tag for BokehJS stylesheet: \", url);\n",
              "      document.body.appendChild(element);\n",
              "    }\n",
              "\n",
              "    for (var i = 0; i < js_urls.length; i++) {\n",
              "      var url = js_urls[i];\n",
              "      var element = document.createElement('script');\n",
              "      element.onload = on_load;\n",
              "      element.onerror = on_error;\n",
              "      element.async = false;\n",
              "      element.src = url;\n",
              "      console.debug(\"Bokeh: injecting script tag for BokehJS library: \", url);\n",
              "      document.head.appendChild(element);\n",
              "    }\n",
              "  };\n",
              "\n",
              "  function inject_raw_css(css) {\n",
              "    const element = document.createElement(\"style\");\n",
              "    element.appendChild(document.createTextNode(css));\n",
              "    document.body.appendChild(element);\n",
              "  }\n",
              "\n",
              "  \n",
              "  var js_urls = [\"https://cdn.pydata.org/bokeh/release/bokeh-1.4.0.min.js\", \"https://cdn.pydata.org/bokeh/release/bokeh-widgets-1.4.0.min.js\", \"https://cdn.pydata.org/bokeh/release/bokeh-tables-1.4.0.min.js\", \"https://cdn.pydata.org/bokeh/release/bokeh-gl-1.4.0.min.js\"];\n",
              "  var css_urls = [];\n",
              "  \n",
              "\n",
              "  var inline_js = [\n",
              "    function(Bokeh) {\n",
              "      Bokeh.set_log_level(\"info\");\n",
              "    },\n",
              "    function(Bokeh) {\n",
              "    \n",
              "    \n",
              "    }\n",
              "  ];\n",
              "\n",
              "  function run_inline_js() {\n",
              "    \n",
              "    if (root.Bokeh !== undefined || force === true) {\n",
              "      \n",
              "    for (var i = 0; i < inline_js.length; i++) {\n",
              "      inline_js[i].call(root, root.Bokeh);\n",
              "    }\n",
              "    } else if (Date.now() < root._bokeh_timeout) {\n",
              "      setTimeout(run_inline_js, 100);\n",
              "    } else if (!root._bokeh_failed_load) {\n",
              "      console.log(\"Bokeh: BokehJS failed to load within specified timeout.\");\n",
              "      root._bokeh_failed_load = true;\n",
              "    } else if (force !== true) {\n",
              "      var cell = $(document.getElementById(null)).parents('.cell').data().cell;\n",
              "      cell.output_area.append_execute_result(NB_LOAD_WARNING)\n",
              "    }\n",
              "\n",
              "  }\n",
              "\n",
              "  if (root._bokeh_is_loading === 0) {\n",
              "    console.debug(\"Bokeh: BokehJS loaded, going straight to plotting\");\n",
              "    run_inline_js();\n",
              "  } else {\n",
              "    load_libs(css_urls, js_urls, function() {\n",
              "      console.debug(\"Bokeh: BokehJS plotting callback run at\", now());\n",
              "      run_inline_js();\n",
              "    });\n",
              "  }\n",
              "}(window));"
            ],
            "application/vnd.bokehjs_load.v0+json": "\n(function(root) {\n  function now() {\n    return new Date();\n  }\n\n  var force = true;\n\n  if (typeof root._bokeh_onload_callbacks === \"undefined\" || force === true) {\n    root._bokeh_onload_callbacks = [];\n    root._bokeh_is_loading = undefined;\n  }\n\n  \n\n  \n  if (typeof (root._bokeh_timeout) === \"undefined\" || force === true) {\n    root._bokeh_timeout = Date.now() + 5000;\n    root._bokeh_failed_load = false;\n  }\n\n  var NB_LOAD_WARNING = {'data': {'text/html':\n     \"<div style='background-color: #fdd'>\\n\"+\n     \"<p>\\n\"+\n     \"BokehJS does not appear to have successfully loaded. If loading BokehJS from CDN, this \\n\"+\n     \"may be due to a slow or bad network connection. Possible fixes:\\n\"+\n     \"</p>\\n\"+\n     \"<ul>\\n\"+\n     \"<li>re-rerun `output_notebook()` to attempt to load from CDN again, or</li>\\n\"+\n     \"<li>use INLINE resources instead, as so:</li>\\n\"+\n     \"</ul>\\n\"+\n     \"<code>\\n\"+\n     \"from bokeh.resources import INLINE\\n\"+\n     \"output_notebook(resources=INLINE)\\n\"+\n     \"</code>\\n\"+\n     \"</div>\"}};\n\n  function display_loaded() {\n    var el = document.getElementById(null);\n    if (el != null) {\n      el.textContent = \"BokehJS is loading...\";\n    }\n    if (root.Bokeh !== undefined) {\n      if (el != null) {\n        el.textContent = \"BokehJS \" + root.Bokeh.version + \" successfully loaded.\";\n      }\n    } else if (Date.now() < root._bokeh_timeout) {\n      setTimeout(display_loaded, 100)\n    }\n  }\n\n\n  function run_callbacks() {\n    try {\n      root._bokeh_onload_callbacks.forEach(function(callback) {\n        if (callback != null)\n          callback();\n      });\n    } finally {\n      delete root._bokeh_onload_callbacks\n    }\n    console.debug(\"Bokeh: all callbacks have finished\");\n  }\n\n  function load_libs(css_urls, js_urls, callback) {\n    if (css_urls == null) css_urls = [];\n    if (js_urls == null) js_urls = [];\n\n    root._bokeh_onload_callbacks.push(callback);\n    if (root._bokeh_is_loading > 0) {\n      console.debug(\"Bokeh: BokehJS is being loaded, scheduling callback at\", now());\n      return null;\n    }\n    if (js_urls == null || js_urls.length === 0) {\n      run_callbacks();\n      return null;\n    }\n    console.debug(\"Bokeh: BokehJS not loaded, scheduling load and callback at\", now());\n    root._bokeh_is_loading = css_urls.length + js_urls.length;\n\n    function on_load() {\n      root._bokeh_is_loading--;\n      if (root._bokeh_is_loading === 0) {\n        console.debug(\"Bokeh: all BokehJS libraries/stylesheets loaded\");\n        run_callbacks()\n      }\n    }\n\n    function on_error() {\n      console.error(\"failed to load \" + url);\n    }\n\n    for (var i = 0; i < css_urls.length; i++) {\n      var url = css_urls[i];\n      const element = document.createElement(\"link\");\n      element.onload = on_load;\n      element.onerror = on_error;\n      element.rel = \"stylesheet\";\n      element.type = \"text/css\";\n      element.href = url;\n      console.debug(\"Bokeh: injecting link tag for BokehJS stylesheet: \", url);\n      document.body.appendChild(element);\n    }\n\n    for (var i = 0; i < js_urls.length; i++) {\n      var url = js_urls[i];\n      var element = document.createElement('script');\n      element.onload = on_load;\n      element.onerror = on_error;\n      element.async = false;\n      element.src = url;\n      console.debug(\"Bokeh: injecting script tag for BokehJS library: \", url);\n      document.head.appendChild(element);\n    }\n  };\n\n  function inject_raw_css(css) {\n    const element = document.createElement(\"style\");\n    element.appendChild(document.createTextNode(css));\n    document.body.appendChild(element);\n  }\n\n  \n  var js_urls = [\"https://cdn.pydata.org/bokeh/release/bokeh-1.4.0.min.js\", \"https://cdn.pydata.org/bokeh/release/bokeh-widgets-1.4.0.min.js\", \"https://cdn.pydata.org/bokeh/release/bokeh-tables-1.4.0.min.js\", \"https://cdn.pydata.org/bokeh/release/bokeh-gl-1.4.0.min.js\"];\n  var css_urls = [];\n  \n\n  var inline_js = [\n    function(Bokeh) {\n      Bokeh.set_log_level(\"info\");\n    },\n    function(Bokeh) {\n    \n    \n    }\n  ];\n\n  function run_inline_js() {\n    \n    if (root.Bokeh !== undefined || force === true) {\n      \n    for (var i = 0; i < inline_js.length; i++) {\n      inline_js[i].call(root, root.Bokeh);\n    }\n    } else if (Date.now() < root._bokeh_timeout) {\n      setTimeout(run_inline_js, 100);\n    } else if (!root._bokeh_failed_load) {\n      console.log(\"Bokeh: BokehJS failed to load within specified timeout.\");\n      root._bokeh_failed_load = true;\n    } else if (force !== true) {\n      var cell = $(document.getElementById(null)).parents('.cell').data().cell;\n      cell.output_area.append_execute_result(NB_LOAD_WARNING)\n    }\n\n  }\n\n  if (root._bokeh_is_loading === 0) {\n    console.debug(\"Bokeh: BokehJS loaded, going straight to plotting\");\n    run_inline_js();\n  } else {\n    load_libs(css_urls, js_urls, function() {\n      console.debug(\"Bokeh: BokehJS plotting callback run at\", now());\n      run_inline_js();\n    });\n  }\n}(window));"
          },
          "metadata": {
            "tags": []
          }
        },
        {
          "output_type": "display_data",
          "data": {
            "text/html": [
              "\n",
              "\n",
              "\n",
              "\n",
              "\n",
              "\n",
              "  <div class=\"bk-root\" id=\"d600b2ea-724e-4d0e-89d4-f47cc5d22b64\" data-root-id=\"1001\"></div>\n"
            ]
          },
          "metadata": {
            "tags": []
          }
        },
        {
          "output_type": "display_data",
          "data": {
            "application/javascript": [
              "(function(root) {\n",
              "  function embed_document(root) {\n",
              "    \n",
              "  var docs_json = {\"5d145e36-ab9e-4e18-950c-765a89cff5ad\":{\"roots\":{\"references\":[{\"attributes\":{\"min_border\":1,\"plot_width\":700,\"renderers\":[{\"id\":\"1029\",\"type\":\"GlyphRenderer\"}],\"title\":{\"id\":\"1002\",\"type\":\"Title\"},\"toolbar\":{\"id\":\"1018\",\"type\":\"Toolbar\"},\"x_range\":{\"id\":\"1004\",\"type\":\"DataRange1d\"},\"x_scale\":{\"id\":\"1008\",\"type\":\"LinearScale\"},\"y_range\":{\"id\":\"1006\",\"type\":\"DataRange1d\"},\"y_scale\":{\"id\":\"1010\",\"type\":\"LinearScale\"}},\"id\":\"1001\",\"subtype\":\"Figure\",\"type\":\"Plot\"},{\"attributes\":{},\"id\":\"1013\",\"type\":\"WheelZoomTool\"},{\"attributes\":{\"overlay\":{\"id\":\"1032\",\"type\":\"BoxAnnotation\"}},\"id\":\"1014\",\"type\":\"BoxZoomTool\"},{\"attributes\":{},\"id\":\"1015\",\"type\":\"ResetTool\"},{\"attributes\":{\"callback\":null,\"tooltips\":[[\"word\",\"@words\"]]},\"id\":\"1016\",\"type\":\"HoverTool\"},{\"attributes\":{},\"id\":\"1033\",\"type\":\"UnionRenderers\"},{\"attributes\":{},\"id\":\"1017\",\"type\":\"SaveTool\"},{\"attributes\":{\"fill_alpha\":{\"value\":0.1},\"fill_color\":{\"value\":\"#1f77b4\"},\"line_alpha\":{\"value\":0.1},\"line_color\":{\"value\":\"#1f77b4\"},\"x\":{\"field\":\"x\"},\"y\":{\"field\":\"y\"}},\"id\":\"1028\",\"type\":\"Scatter\"},{\"attributes\":{\"callback\":null,\"data\":{\"index\":[0,1,2,3,4,5,6,7,8,9,10,11,12,13,14,15,16,17,18,19,20,21,22,23,24,25,26,27,28,29,30,31,32,33,34,35,36,37,38,39,40,41,42,43,44,45,46,47,48,49,50,51,52,53,54,55,56,57,58,59,60,61,62,63,64,65,66,67,68,69,70,71,72,73,74,75,76,77,78,79,80,81,82,83,84,85,86,87,88,89,90,91,92,93,94,95,96,97,98,99,100,101,102,103,104,105,106,107,108,109,110,111,112,113,114,115,116,117,118,119,120,121,122,123,124,125,126,127,128,129,130,131,132,133,134,135,136,137,138,139,140,141,142,143,144,145,146,147,148,149,150,151,152,153,154,155,156,157,158,159,160,161,162,163,164,165,166,167,168,169,170,171,172,173,174,175,176,177,178,179,180,181,182,183,184,185,186,187,188,189,190,191,192,193,194,195,196,197,198,199,200,201,202,203,204,205,206,207,208,209,210,211,212,213,214,215,216,217,218,219,220,221,222,223,224,225,226,227,228,229,230,231,232,233,234,235,236,237,238,239,240,241,242,243,244,245,246,247,248,249,250,251,252,253,254,255,256,257,258,259,260,261,262,263,264,265,266,267,268,269,270,271,272,273,274,275,276,277,278,279,280,281,282,283,284,285,286,287,288,289,290,291,292,293,294,295,296,297,298,299,300,301,302,303,304,305,306,307,308,309,310,311,312,313,314,315,316,317,318,319,320,321,322,323,324,325,326,327,328,329,330,331,332,333,334,335,336,337,338,339,340,341,342,343,344,345,346,347,348,349,350,351,352,353,354,355,356,357,358,359,360,361,362,363,364,365,366,367,368,369,370,371,372,373,374,375,376,377,378,379,380,381,382,383,384,385,386,387,388,389,390,391,392,393,394,395,396,397,398,399,400,401,402,403,404,405,406,407,408,409,410,411,412,413,414,415,416,417,418,419,420,421,422,423,424,425,426,427,428,429,430,431,432,433,434,435,436,437,438,439,440,441,442,443,444,445,446,447,448,449,450,451,452,453,454,455,456,457,458,459,460,461,462,463,464,465,466,467,468,469,470,471,472,473,474,475,476,477,478,479,480,481,482,483,484,485,486,487,488,489,490,491,492,493,494,495,496,497,498,499,500,501,502,503,504,505,506,507,508,509,510,511,512,513,514,515,516,517,518,519,520,521,522,523,524,525,526,527,528,529,530,531,532,533,534,535,536,537,538,539,540,541,542,543,544,545,546,547,548,549,550,551,552,553,554,555,556,557,558,559,560,561,562,563,564,565,566,567,568,569,570,571,572,573,574,575,576,577,578,579,580,581,582,583,584,585,586,587,588,589,590,591,592,593,594,595,596,597,598,599,600,601,602,603,604,605,606,607,608,609,610,611,612,613,614,615,616,617,618,619,620,621,622,623,624,625,626,627,628,629,630,631,632,633,634,635,636,637,638,639,640,641,642,643,644,645,646,647,648,649,650,651,652,653,654,655,656,657,658,659,660,661,662,663,664,665,666,667,668,669,670,671,672,673,674,675,676,677,678,679,680,681,682,683,684,685,686,687,688,689,690,691,692,693,694,695,696,697,698,699,700,701,702,703,704,705,706,707,708,709,710,711,712,713,714,715,716,717,718,719,720,721,722,723,724,725,726,727,728,729,730,731,732,733,734,735,736,737,738,739,740,741,742,743,744,745,746,747,748,749,750,751,752,753,754,755,756,757,758,759,760,761,762,763,764,765,766,767,768,769,770,771,772,773,774,775,776,777,778,779,780,781,782,783,784,785,786,787,788,789,790,791,792,793,794,795,796,797,798,799,800,801,802,803,804,805,806,807,808,809,810,811,812,813,814,815,816,817,818,819,820,821,822,823,824,825,826,827,828,829,830,831,832,833,834,835,836,837,838,839,840,841,842,843,844,845,846,847,848,849,850,851,852,853,854,855,856,857,858,859,860,861,862,863,864,865,866,867,868,869,870,871,872,873,874,875,876,877,878,879,880,881,882,883,884,885,886,887,888,889,890,891,892,893,894,895,896,897,898,899,900,901,902,903,904,905,906,907,908,909,910,911,912,913,914,915,916,917,918,919,920,921,922,923,924,925,926,927,928,929,930,931,932,933,934,935,936,937,938,939,940,941,942,943,944,945,946,947,948,949,950,951,952,953,954,955,956,957,958,959,960,961,962,963,964,965,966,967,968,969,970,971,972,973,974,975,976,977,978,979,980,981,982,983,984,985,986,987,988,989,990,991,992,993,994,995,996,997,998,999,1000,1001,1002,1003,1004,1005,1006,1007,1008,1009,1010,1011,1012,1013,1014,1015,1016,1017,1018,1019,1020,1021,1022,1023,1024,1025,1026,1027,1028,1029,1030,1031,1032,1033,1034,1035,1036,1037,1038,1039,1040,1041,1042,1043,1044,1045,1046,1047,1048,1049,1050,1051,1052,1053,1054,1055,1056,1057,1058,1059,1060,1061,1062,1063,1064,1065,1066,1067,1068,1069,1070,1071,1072,1073,1074,1075,1076,1077,1078,1079,1080,1081,1082,1083,1084,1085,1086,1087,1088,1089,1090,1091,1092,1093,1094,1095,1096,1097,1098,1099,1100,1101,1102,1103,1104,1105,1106,1107,1108,1109,1110,1111,1112,1113,1114,1115,1116,1117,1118,1119,1120,1121,1122,1123,1124,1125,1126,1127,1128,1129,1130,1131,1132,1133,1134,1135,1136,1137,1138,1139,1140,1141,1142,1143,1144,1145,1146,1147,1148,1149,1150,1151,1152,1153,1154,1155,1156,1157,1158,1159,1160,1161,1162,1163,1164,1165,1166,1167,1168,1169,1170,1171,1172,1173,1174,1175,1176,1177,1178,1179,1180,1181,1182,1183,1184,1185,1186,1187,1188,1189,1190,1191,1192,1193,1194,1195,1196,1197,1198,1199,1200,1201,1202,1203,1204,1205,1206,1207,1208,1209,1210,1211,1212,1213,1214,1215,1216,1217,1218,1219,1220,1221,1222,1223,1224,1225,1226,1227,1228,1229,1230,1231,1232,1233,1234,1235,1236,1237,1238,1239,1240,1241,1242,1243,1244,1245,1246,1247,1248,1249,1250,1251,1252,1253,1254,1255,1256,1257,1258,1259,1260,1261,1262,1263,1264,1265,1266,1267,1268,1269,1270,1271,1272,1273,1274,1275,1276,1277,1278,1279,1280,1281,1282,1283,1284,1285,1286,1287,1288,1289,1290,1291,1292,1293,1294,1295,1296,1297,1298,1299,1300,1301,1302,1303,1304,1305,1306,1307,1308,1309,1310,1311,1312,1313,1314,1315,1316,1317,1318,1319,1320,1321,1322,1323,1324,1325,1326,1327,1328,1329,1330,1331,1332,1333,1334,1335,1336,1337,1338,1339,1340,1341,1342,1343,1344,1345,1346,1347,1348,1349,1350,1351,1352,1353,1354,1355,1356,1357,1358,1359,1360,1361,1362,1363,1364,1365,1366,1367,1368,1369,1370,1371,1372,1373,1374,1375,1376,1377,1378,1379,1380,1381,1382,1383,1384,1385,1386,1387,1388,1389,1390,1391,1392,1393,1394,1395,1396,1397,1398,1399,1400,1401,1402,1403,1404,1405,1406,1407,1408,1409,1410,1411,1412,1413,1414,1415,1416,1417,1418,1419,1420,1421,1422,1423,1424,1425,1426,1427,1428,1429,1430,1431,1432,1433,1434,1435,1436,1437,1438,1439,1440,1441,1442,1443,1444,1445,1446,1447,1448,1449,1450,1451,1452,1453,1454,1455,1456,1457,1458,1459,1460,1461,1462,1463,1464,1465,1466,1467,1468,1469,1470,1471,1472,1473,1474,1475,1476,1477,1478,1479,1480,1481,1482,1483,1484,1485,1486,1487,1488,1489,1490,1491,1492,1493,1494,1495,1496,1497,1498,1499,1500,1501,1502,1503,1504,1505,1506,1507,1508,1509,1510,1511,1512,1513,1514,1515,1516,1517,1518,1519,1520,1521,1522,1523,1524,1525,1526,1527,1528,1529,1530,1531,1532,1533,1534,1535,1536,1537,1538,1539,1540,1541,1542,1543,1544,1545,1546,1547,1548,1549,1550,1551,1552,1553,1554,1555,1556,1557,1558,1559,1560,1561,1562,1563,1564,1565,1566,1567,1568,1569,1570,1571,1572,1573,1574,1575,1576,1577,1578,1579,1580,1581,1582,1583,1584,1585,1586,1587,1588,1589,1590,1591,1592,1593,1594,1595,1596,1597,1598,1599,1600,1601,1602,1603,1604,1605,1606,1607,1608,1609,1610,1611,1612,1613,1614,1615,1616,1617,1618,1619,1620,1621,1622,1623,1624,1625,1626,1627,1628,1629,1630,1631,1632,1633,1634,1635,1636,1637,1638,1639,1640,1641,1642,1643,1644,1645,1646,1647,1648,1649,1650,1651,1652,1653,1654,1655,1656,1657,1658,1659,1660,1661,1662,1663,1664,1665,1666,1667,1668,1669,1670,1671,1672,1673,1674,1675,1676,1677,1678,1679,1680,1681,1682,1683,1684,1685,1686,1687,1688,1689,1690,1691,1692,1693,1694,1695,1696,1697,1698,1699,1700,1701,1702,1703,1704,1705,1706,1707,1708,1709,1710,1711,1712,1713,1714,1715,1716,1717,1718,1719,1720,1721,1722,1723,1724,1725,1726,1727,1728,1729,1730,1731,1732,1733,1734,1735,1736,1737,1738,1739,1740,1741,1742,1743,1744,1745,1746,1747,1748,1749,1750,1751,1752,1753,1754,1755,1756,1757,1758,1759,1760,1761,1762,1763,1764,1765,1766,1767,1768,1769,1770,1771,1772,1773,1774,1775,1776,1777,1778,1779,1780,1781,1782,1783,1784,1785,1786,1787,1788,1789,1790,1791,1792,1793,1794,1795,1796,1797,1798,1799,1800,1801,1802,1803,1804,1805,1806,1807,1808,1809,1810,1811,1812,1813,1814,1815,1816,1817,1818,1819,1820,1821,1822,1823,1824,1825,1826,1827,1828,1829,1830,1831,1832,1833,1834,1835,1836,1837,1838,1839,1840,1841,1842,1843,1844,1845,1846,1847,1848,1849,1850,1851,1852,1853,1854,1855,1856,1857,1858,1859,1860,1861,1862,1863,1864,1865,1866,1867,1868,1869,1870,1871,1872,1873,1874,1875,1876,1877,1878,1879,1880,1881,1882,1883,1884,1885,1886,1887,1888,1889,1890,1891,1892,1893,1894,1895,1896,1897,1898,1899,1900,1901,1902,1903,1904,1905,1906,1907,1908,1909,1910,1911,1912,1913,1914,1915,1916,1917,1918,1919,1920,1921,1922,1923,1924,1925,1926,1927,1928,1929,1930,1931,1932,1933,1934,1935,1936,1937,1938,1939,1940,1941,1942,1943,1944,1945,1946,1947,1948,1949,1950,1951,1952,1953,1954,1955,1956,1957,1958,1959,1960,1961,1962,1963,1964,1965,1966,1967,1968,1969,1970,1971,1972,1973,1974,1975,1976,1977,1978,1979,1980,1981,1982,1983,1984,1985,1986,1987,1988,1989,1990,1991,1992,1993,1994,1995,1996,1997,1998,1999,2000,2001,2002,2003,2004,2005,2006,2007,2008,2009,2010,2011,2012,2013,2014,2015,2016,2017,2018,2019,2020,2021,2022,2023,2024,2025,2026,2027,2028,2029,2030,2031,2032,2033,2034,2035,2036,2037,2038,2039,2040,2041,2042,2043,2044,2045,2046,2047,2048,2049,2050,2051,2052,2053,2054,2055,2056,2057,2058,2059,2060,2061,2062,2063,2064,2065,2066,2067,2068,2069,2070,2071,2072,2073,2074,2075,2076,2077,2078,2079,2080,2081,2082,2083,2084,2085,2086,2087,2088,2089,2090,2091,2092,2093,2094,2095,2096,2097,2098,2099,2100,2101,2102,2103,2104,2105,2106,2107,2108,2109,2110,2111,2112,2113,2114,2115,2116,2117,2118,2119,2120,2121,2122,2123,2124,2125,2126,2127,2128,2129,2130,2131,2132,2133,2134,2135,2136,2137,2138,2139,2140,2141,2142,2143,2144,2145,2146,2147,2148,2149,2150,2151,2152,2153,2154,2155,2156,2157,2158,2159,2160,2161,2162,2163,2164,2165,2166,2167,2168,2169,2170,2171,2172,2173,2174,2175,2176,2177,2178,2179,2180,2181,2182,2183,2184,2185,2186,2187,2188,2189,2190,2191,2192,2193,2194,2195,2196,2197,2198,2199,2200,2201,2202,2203,2204,2205,2206,2207,2208,2209,2210,2211,2212,2213,2214,2215,2216,2217,2218,2219,2220,2221,2222,2223,2224,2225,2226,2227,2228,2229,2230,2231,2232,2233,2234,2235,2236,2237,2238,2239,2240,2241,2242,2243,2244,2245,2246,2247,2248,2249,2250,2251,2252,2253,2254,2255,2256,2257,2258,2259,2260,2261,2262,2263,2264,2265,2266,2267,2268,2269,2270,2271,2272,2273,2274,2275,2276,2277,2278,2279,2280,2281,2282,2283,2284,2285,2286,2287,2288,2289,2290,2291,2292,2293,2294,2295,2296,2297,2298,2299,2300,2301,2302,2303,2304,2305,2306,2307,2308,2309,2310,2311,2312,2313,2314,2315,2316,2317,2318,2319,2320,2321,2322,2323,2324,2325,2326,2327,2328,2329,2330,2331,2332,2333,2334,2335,2336,2337,2338,2339,2340,2341,2342,2343,2344,2345,2346,2347,2348,2349,2350,2351,2352,2353,2354,2355,2356,2357,2358,2359,2360,2361,2362,2363,2364,2365,2366,2367,2368,2369,2370,2371,2372,2373,2374,2375,2376,2377,2378,2379,2380,2381,2382,2383,2384,2385,2386,2387,2388,2389,2390,2391,2392,2393,2394,2395,2396,2397,2398,2399,2400,2401,2402,2403,2404,2405,2406,2407,2408,2409,2410,2411,2412,2413,2414,2415,2416,2417,2418,2419,2420,2421,2422,2423,2424,2425,2426,2427,2428,2429,2430,2431,2432,2433,2434,2435,2436,2437,2438,2439,2440,2441,2442,2443,2444,2445,2446,2447,2448,2449,2450,2451,2452,2453,2454,2455,2456,2457,2458,2459,2460,2461,2462,2463,2464,2465,2466,2467,2468,2469,2470,2471,2472,2473,2474,2475,2476,2477,2478,2479,2480,2481,2482,2483,2484,2485,2486,2487,2488,2489,2490,2491,2492,2493,2494,2495,2496,2497,2498,2499,2500,2501,2502,2503,2504,2505,2506,2507,2508,2509,2510,2511,2512,2513,2514,2515,2516,2517,2518,2519,2520,2521,2522,2523,2524,2525,2526,2527,2528,2529,2530,2531,2532,2533,2534,2535,2536,2537,2538,2539,2540,2541,2542,2543,2544,2545,2546,2547,2548,2549,2550,2551,2552,2553,2554,2555,2556,2557,2558,2559,2560,2561,2562,2563,2564,2565,2566,2567,2568,2569,2570,2571,2572,2573,2574,2575,2576,2577,2578,2579,2580,2581,2582,2583,2584,2585,2586,2587,2588,2589,2590,2591,2592,2593,2594,2595,2596,2597,2598,2599,2600,2601,2602,2603,2604,2605,2606,2607,2608,2609,2610,2611,2612,2613,2614,2615,2616,2617,2618,2619,2620,2621,2622,2623,2624,2625,2626,2627,2628,2629,2630,2631,2632,2633,2634,2635,2636,2637,2638,2639,2640,2641,2642,2643,2644,2645,2646,2647,2648,2649,2650,2651,2652,2653,2654,2655,2656,2657,2658,2659,2660,2661,2662,2663,2664,2665,2666,2667,2668,2669,2670,2671,2672,2673,2674,2675,2676,2677,2678,2679,2680,2681,2682,2683,2684,2685,2686,2687,2688,2689,2690,2691,2692,2693,2694,2695,2696,2697,2698,2699,2700,2701,2702,2703,2704,2705,2706,2707,2708,2709,2710,2711,2712,2713,2714,2715,2716,2717,2718,2719,2720,2721,2722,2723,2724,2725,2726,2727,2728,2729,2730,2731,2732,2733,2734,2735,2736,2737,2738,2739,2740,2741,2742,2743,2744,2745,2746,2747,2748,2749,2750,2751,2752,2753,2754,2755,2756,2757,2758,2759,2760,2761,2762,2763,2764,2765,2766,2767,2768,2769,2770,2771,2772,2773,2774,2775,2776,2777,2778,2779,2780,2781,2782,2783,2784,2785,2786,2787,2788,2789,2790,2791,2792,2793,2794,2795,2796,2797,2798,2799,2800,2801,2802,2803,2804,2805,2806,2807,2808,2809,2810,2811,2812,2813,2814,2815,2816,2817,2818,2819,2820,2821,2822,2823,2824,2825,2826,2827,2828,2829,2830,2831,2832,2833,2834,2835,2836,2837,2838,2839,2840,2841,2842,2843,2844,2845,2846,2847,2848,2849,2850,2851,2852,2853,2854,2855,2856,2857,2858,2859,2860,2861,2862,2863,2864,2865,2866,2867,2868,2869,2870,2871,2872,2873,2874,2875,2876,2877,2878,2879,2880,2881,2882,2883,2884,2885,2886,2887,2888,2889,2890,2891,2892,2893,2894,2895,2896,2897,2898,2899,2900,2901,2902,2903,2904,2905,2906,2907,2908,2909,2910,2911,2912,2913,2914,2915,2916,2917,2918,2919,2920,2921,2922,2923,2924,2925,2926,2927,2928,2929,2930,2931,2932,2933,2934,2935,2936,2937,2938,2939,2940,2941,2942,2943,2944,2945,2946,2947,2948,2949,2950,2951,2952,2953,2954,2955,2956,2957,2958,2959,2960,2961,2962,2963,2964,2965,2966,2967,2968,2969,2970,2971,2972,2973,2974,2975,2976,2977,2978,2979,2980,2981,2982,2983,2984,2985,2986,2987,2988,2989,2990,2991,2992,2993,2994,2995,2996,2997,2998,2999,3000,3001,3002,3003,3004,3005,3006,3007,3008,3009,3010,3011,3012,3013,3014,3015,3016,3017,3018,3019,3020,3021,3022,3023,3024,3025,3026,3027,3028,3029,3030,3031,3032,3033,3034,3035,3036,3037,3038,3039,3040,3041,3042,3043,3044,3045,3046,3047,3048,3049,3050,3051,3052,3053,3054,3055,3056,3057,3058,3059,3060,3061,3062,3063,3064,3065,3066,3067,3068,3069,3070,3071,3072,3073,3074,3075,3076,3077,3078,3079,3080,3081,3082,3083,3084,3085,3086,3087,3088,3089,3090,3091,3092,3093,3094,3095,3096,3097,3098,3099,3100,3101,3102,3103,3104,3105,3106,3107,3108,3109,3110,3111,3112,3113,3114,3115,3116,3117,3118,3119,3120,3121,3122,3123,3124,3125,3126,3127,3128,3129,3130,3131,3132,3133,3134,3135,3136,3137,3138,3139,3140,3141,3142,3143,3144,3145,3146,3147,3148,3149,3150,3151,3152,3153,3154,3155,3156,3157,3158,3159,3160,3161,3162,3163,3164,3165,3166,3167,3168,3169,3170,3171,3172,3173,3174,3175,3176,3177,3178,3179,3180,3181,3182,3183,3184,3185,3186,3187,3188,3189,3190,3191,3192,3193,3194,3195,3196,3197,3198,3199,3200,3201,3202,3203,3204,3205,3206,3207,3208,3209,3210,3211,3212,3213,3214,3215,3216,3217,3218,3219,3220,3221,3222,3223,3224,3225,3226,3227,3228,3229,3230,3231,3232,3233,3234,3235,3236,3237,3238,3239,3240,3241,3242,3243,3244,3245,3246,3247,3248,3249,3250,3251,3252,3253,3254,3255,3256,3257,3258,3259,3260,3261,3262,3263,3264,3265,3266,3267,3268,3269,3270,3271,3272,3273,3274,3275,3276,3277,3278,3279,3280,3281,3282,3283,3284,3285,3286,3287,3288,3289,3290,3291,3292,3293,3294,3295,3296,3297,3298,3299,3300,3301,3302,3303,3304,3305,3306,3307,3308,3309,3310,3311,3312,3313,3314,3315,3316,3317,3318,3319,3320,3321,3322,3323,3324,3325,3326,3327,3328,3329,3330,3331,3332,3333,3334,3335,3336,3337,3338,3339,3340,3341,3342,3343,3344,3345,3346,3347,3348,3349,3350,3351,3352,3353,3354,3355,3356,3357,3358,3359,3360,3361,3362,3363,3364,3365,3366,3367,3368,3369,3370,3371,3372,3373,3374,3375,3376,3377,3378,3379,3380,3381,3382,3383,3384,3385,3386,3387,3388,3389,3390,3391,3392,3393,3394,3395,3396,3397,3398,3399,3400,3401,3402,3403,3404,3405,3406,3407,3408,3409,3410,3411,3412,3413,3414,3415,3416,3417,3418,3419,3420,3421,3422,3423,3424,3425,3426,3427,3428,3429,3430,3431,3432,3433,3434,3435,3436,3437,3438,3439,3440,3441,3442,3443,3444,3445,3446,3447,3448,3449,3450,3451,3452,3453,3454,3455,3456,3457,3458,3459,3460,3461,3462,3463,3464,3465,3466,3467,3468,3469,3470,3471,3472,3473,3474,3475,3476,3477,3478,3479,3480,3481,3482,3483,3484,3485,3486,3487,3488,3489,3490,3491,3492,3493,3494,3495,3496,3497,3498,3499,3500,3501,3502,3503,3504,3505,3506,3507,3508,3509,3510,3511,3512,3513,3514,3515,3516,3517,3518,3519,3520,3521,3522,3523,3524,3525,3526,3527,3528,3529,3530,3531,3532,3533,3534,3535,3536,3537,3538,3539,3540,3541,3542,3543,3544,3545,3546,3547,3548,3549,3550,3551,3552,3553,3554,3555,3556,3557,3558,3559,3560,3561,3562,3563,3564,3565,3566,3567,3568,3569,3570,3571,3572,3573,3574,3575,3576,3577,3578,3579,3580,3581,3582,3583,3584,3585,3586,3587,3588,3589,3590,3591,3592,3593,3594,3595,3596,3597,3598,3599,3600,3601,3602,3603,3604,3605,3606,3607,3608,3609,3610,3611,3612,3613,3614,3615,3616,3617,3618,3619,3620,3621,3622,3623,3624,3625,3626,3627,3628,3629,3630,3631,3632,3633,3634,3635,3636,3637,3638,3639,3640,3641,3642,3643,3644,3645,3646,3647,3648,3649,3650,3651,3652,3653,3654,3655,3656,3657,3658,3659,3660,3661,3662,3663,3664,3665,3666,3667,3668,3669,3670,3671,3672,3673,3674,3675,3676,3677,3678,3679,3680,3681,3682,3683,3684,3685,3686,3687,3688,3689,3690,3691,3692,3693,3694,3695,3696,3697,3698,3699,3700,3701,3702,3703,3704,3705,3706,3707,3708,3709,3710,3711,3712,3713,3714,3715,3716,3717,3718,3719,3720,3721,3722,3723,3724,3725,3726,3727,3728,3729,3730,3731,3732,3733,3734,3735,3736,3737,3738,3739,3740,3741,3742,3743,3744,3745,3746,3747,3748,3749,3750,3751,3752,3753,3754,3755,3756,3757,3758,3759,3760,3761,3762,3763,3764,3765,3766,3767,3768,3769,3770,3771,3772,3773,3774,3775,3776,3777,3778,3779,3780,3781,3782,3783,3784,3785,3786,3787,3788,3789,3790,3791,3792,3793,3794,3795,3796,3797,3798,3799,3800,3801,3802,3803,3804,3805,3806,3807,3808,3809,3810,3811,3812,3813,3814,3815,3816,3817,3818,3819,3820,3821,3822,3823,3824,3825,3826,3827,3828,3829,3830,3831,3832,3833,3834,3835,3836,3837,3838,3839,3840,3841,3842,3843,3844,3845,3846,3847,3848,3849,3850,3851,3852,3853,3854,3855,3856,3857,3858,3859,3860,3861,3862,3863,3864,3865,3866,3867,3868,3869,3870,3871,3872,3873,3874,3875,3876,3877,3878,3879,3880,3881,3882,3883,3884,3885,3886,3887,3888,3889,3890,3891,3892,3893,3894,3895,3896,3897,3898,3899,3900,3901,3902,3903,3904,3905,3906,3907,3908,3909,3910,3911,3912,3913,3914,3915,3916,3917,3918,3919,3920,3921,3922,3923,3924,3925,3926,3927,3928,3929,3930,3931,3932,3933,3934,3935,3936,3937,3938,3939,3940,3941,3942,3943,3944,3945,3946,3947,3948,3949,3950,3951,3952,3953,3954,3955,3956,3957,3958,3959,3960,3961,3962,3963,3964,3965,3966,3967,3968,3969,3970,3971,3972,3973,3974,3975,3976,3977,3978,3979,3980,3981,3982,3983,3984,3985,3986,3987,3988,3989,3990,3991,3992,3993,3994,3995,3996,3997,3998,3999,4000,4001,4002,4003,4004,4005,4006,4007,4008,4009,4010,4011,4012,4013,4014,4015,4016,4017,4018,4019,4020,4021,4022,4023,4024,4025,4026,4027,4028,4029,4030,4031,4032,4033,4034,4035,4036,4037,4038,4039,4040,4041,4042,4043,4044,4045,4046,4047,4048,4049,4050,4051,4052,4053,4054,4055,4056,4057,4058,4059,4060,4061,4062,4063,4064,4065,4066,4067,4068,4069,4070,4071,4072,4073,4074,4075,4076,4077,4078,4079,4080,4081,4082,4083,4084,4085,4086,4087,4088,4089,4090,4091,4092,4093,4094,4095,4096,4097,4098,4099,4100,4101,4102,4103,4104,4105,4106,4107,4108,4109,4110,4111,4112,4113,4114,4115,4116,4117,4118,4119,4120,4121,4122,4123,4124,4125,4126,4127,4128,4129,4130,4131,4132,4133,4134,4135,4136,4137,4138,4139,4140,4141,4142,4143,4144,4145,4146,4147,4148,4149,4150,4151,4152,4153,4154,4155,4156,4157,4158,4159,4160,4161,4162,4163,4164,4165,4166,4167,4168,4169,4170,4171,4172,4173,4174,4175,4176,4177,4178,4179,4180,4181,4182,4183,4184,4185,4186,4187,4188,4189,4190,4191,4192,4193,4194,4195,4196,4197,4198,4199,4200,4201,4202,4203,4204,4205,4206,4207,4208,4209,4210,4211,4212,4213,4214,4215,4216,4217,4218,4219,4220,4221,4222,4223,4224,4225,4226,4227,4228,4229,4230,4231,4232,4233,4234,4235,4236,4237,4238,4239,4240,4241,4242,4243,4244,4245,4246,4247,4248,4249,4250,4251,4252,4253,4254,4255,4256,4257,4258,4259,4260,4261,4262,4263,4264,4265,4266,4267,4268,4269,4270,4271,4272,4273,4274,4275,4276,4277,4278,4279,4280,4281,4282,4283,4284,4285,4286,4287,4288,4289,4290,4291,4292,4293,4294,4295,4296,4297,4298,4299,4300,4301,4302,4303,4304,4305,4306,4307,4308,4309,4310,4311,4312,4313,4314,4315,4316,4317,4318,4319,4320,4321,4322,4323,4324,4325,4326,4327,4328,4329,4330,4331,4332,4333,4334,4335,4336,4337,4338,4339,4340,4341,4342,4343,4344,4345,4346,4347,4348,4349,4350,4351,4352,4353,4354,4355,4356,4357,4358,4359,4360,4361,4362,4363,4364,4365,4366,4367,4368,4369,4370,4371,4372,4373,4374,4375,4376,4377,4378,4379,4380,4381,4382,4383,4384,4385,4386,4387,4388,4389,4390,4391,4392,4393,4394,4395,4396,4397,4398,4399,4400,4401,4402,4403,4404,4405,4406,4407,4408,4409,4410,4411,4412,4413,4414,4415,4416,4417,4418,4419,4420,4421,4422,4423,4424,4425,4426,4427,4428,4429,4430,4431,4432,4433,4434,4435,4436,4437,4438,4439,4440,4441,4442,4443,4444,4445,4446,4447,4448,4449,4450,4451,4452,4453,4454,4455,4456,4457,4458,4459,4460,4461,4462,4463,4464,4465,4466,4467,4468,4469,4470,4471,4472,4473,4474,4475,4476,4477,4478,4479,4480,4481,4482,4483,4484,4485,4486,4487,4488,4489,4490,4491,4492,4493,4494,4495,4496,4497,4498,4499,4500,4501,4502,4503,4504,4505,4506,4507,4508,4509,4510,4511,4512,4513,4514,4515,4516,4517,4518,4519,4520,4521,4522,4523,4524,4525,4526,4527,4528,4529,4530,4531,4532,4533,4534,4535,4536,4537,4538,4539,4540,4541,4542,4543,4544,4545,4546,4547,4548,4549,4550,4551,4552,4553,4554,4555,4556,4557,4558,4559,4560,4561,4562,4563,4564,4565,4566,4567,4568,4569,4570,4571,4572,4573,4574,4575,4576,4577,4578,4579,4580,4581,4582,4583,4584,4585,4586,4587,4588,4589,4590,4591,4592,4593,4594,4595,4596,4597,4598,4599,4600,4601,4602,4603,4604,4605,4606,4607,4608,4609,4610,4611,4612,4613,4614,4615,4616,4617,4618,4619,4620,4621,4622,4623,4624,4625,4626,4627,4628,4629,4630,4631,4632,4633,4634,4635,4636,4637,4638,4639,4640,4641,4642,4643,4644,4645,4646,4647,4648,4649,4650,4651,4652,4653,4654,4655,4656,4657,4658,4659,4660,4661,4662,4663,4664,4665,4666,4667,4668,4669,4670,4671,4672,4673,4674,4675,4676,4677,4678,4679,4680,4681,4682,4683,4684,4685,4686,4687,4688,4689,4690,4691,4692,4693,4694,4695,4696,4697,4698,4699,4700,4701,4702,4703,4704,4705,4706,4707,4708,4709,4710,4711,4712,4713,4714,4715,4716,4717,4718,4719,4720,4721,4722,4723,4724,4725,4726,4727,4728,4729,4730,4731,4732,4733,4734,4735,4736,4737,4738,4739,4740,4741,4742,4743,4744,4745,4746,4747,4748,4749,4750,4751,4752,4753,4754,4755,4756,4757,4758,4759,4760,4761,4762,4763,4764,4765,4766,4767,4768,4769,4770,4771,4772,4773,4774,4775,4776,4777,4778,4779,4780,4781,4782,4783,4784,4785,4786,4787,4788,4789,4790,4791,4792,4793,4794,4795,4796,4797,4798,4799,4800,4801,4802,4803,4804,4805,4806,4807,4808,4809,4810,4811,4812,4813,4814,4815,4816,4817,4818,4819,4820,4821,4822,4823,4824,4825,4826,4827,4828,4829,4830,4831,4832,4833,4834,4835,4836,4837,4838,4839,4840,4841,4842,4843,4844,4845,4846,4847,4848,4849,4850,4851,4852,4853,4854,4855,4856,4857,4858,4859,4860,4861,4862,4863,4864,4865,4866,4867,4868,4869,4870,4871,4872,4873,4874,4875,4876,4877,4878,4879,4880,4881,4882,4883,4884,4885,4886,4887,4888,4889,4890,4891,4892,4893,4894,4895,4896,4897,4898,4899,4900,4901,4902,4903,4904,4905,4906,4907,4908,4909,4910,4911,4912,4913,4914,4915,4916,4917,4918,4919,4920,4921,4922,4923,4924,4925,4926,4927,4928,4929,4930,4931,4932,4933,4934,4935,4936,4937,4938,4939,4940,4941,4942,4943,4944,4945,4946,4947,4948,4949,4950,4951,4952,4953,4954,4955,4956,4957,4958,4959,4960,4961,4962,4963,4964,4965,4966,4967,4968,4969,4970,4971,4972,4973,4974,4975,4976,4977,4978,4979,4980,4981,4982,4983,4984,4985,4986,4987,4988,4989,4990,4991,4992,4993,4994,4995,4996,4997,4998,4999],\"words\":[\"got\",\"fast\",\"burned\",\"six\",\"discs\",\"right\",\"away\",\"experienced\",\"problem\",\"using\",\"maxell\",\"always\",\"work\",\"well\",\"fits\",\"nano\",\"4\",\"quite\",\"price\",\"cheap\",\"one\",\"called\",\"curve\",\"little\",\"stylish\",\"best\",\"thing\",\"comes\",\"neckstrap\",\"label\",\"courage\",\"like\",\"lot\",\"top\",\"screen\",\"protector\",\"good\",\"item\",\"getting\",\"recommend\",\"battery\",\"arrived\",\"promised\",\"date\",\"given\",\"garmin\",\"second\",\"life\",\"bought\",\"amazon\",\"sold\",\"minisuit\",\"seller\",\"br\",\"works\",\"perfectly\",\"ipad\",\"mini\",\"positions\",\"shown\",\"posted\",\"pictures\",\"also\",\"34\",\"magnetic\",\"fold\",\"sleeps\",\"keeping\",\"unfold\",\"wakes\",\"largely\",\"similar\",\"original\",\"apple\",\"smartcase\",\"sleep\",\"wake\",\"mode\",\"stand\",\"however\",\"almost\",\"half\",\"another\",\"bonus\",\"still\",\"need\",\"case\",\"better\",\"customization\",\"guess\",\"picture\",\"5\",\"time\",\"review\",\"wear\",\"tear\",\"use\",\"sine\",\"jan\",\"13\",\"look\",\"going\",\"die\",\"reliable\",\"product\",\"looks\",\"withstand\",\"heavy\",\"highly\",\"obviously\",\"issues\",\"update\",\"ordered\",\"3\",\"chargers\",\"surprisingly\",\"dont\",\"charge\",\"phone\",\"useless\",\"running\",\"scam\",\"selling\",\"garbage\",\"products\",\"happy\",\"delivery\",\"found\",\"chain\",\"retail\",\"store\",\"10\",\"less\",\"listed\",\"two\",\"speakers\",\"fake\",\"sometimes\",\"lots\",\"static\",\"times\",\"disconnect\",\"bluetooth\",\"randomly\",\"volume\",\"low\",\"really\",\"annoying\",\"proof\",\"line\",\"exactly\",\"certainly\",\"learning\",\"even\",\"pain\",\"daily\",\"biggest\",\"complaint\",\"since\",\"far\",\"actually\",\"working\",\"serves\",\"purpose\",\"letting\",\"docking\",\"station\",\"instead\",\"cable\",\"cpl\",\"months\",\"later\",\"know\",\"else\",\"would\",\"seriously\",\"worth\",\"make\",\"song\",\"playing\",\"distorted\",\"open\",\"anytime\",\"want\",\"change\",\"spend\",\"get\",\"something\",\"backup\",\"traveling\",\"iphone\",\"notoriously\",\"short\",\"lived\",\"charm\",\"first\",\"ran\",\"discharged\",\"connection\",\"cables\",\"came\",\"trent\",\"kept\",\"hours\",\"recharge\",\"sent\",\"email\",\"support\",\"prompt\",\"reply\",\"suggesting\",\"connect\",\"white\",\"charged\",\"son\",\"ipod\",\"according\",\"indicater\",\"lights\",\"plenty\",\"lefft\",\"love\",\"especially\",\"great\",\"service\",\"gave\",\"big\",\"nook\",\"fit\",\"returning\",\"save\",\"money\",\"buy\",\"daughter\",\"loves\",\"reasons\",\"elastic\",\"straps\",\"corners\",\"hold\",\"kindle\",\"securely\",\"inside\",\"way\",\"tried\",\"husband\",\"bigger\",\"mine\",\"think\",\"slides\",\"around\",\"protect\",\"damage\",\"thick\",\"enough\",\"provide\",\"worry\",\"free\",\"carry\",\"zipper\",\"pocket\",\"outside\",\"charger\",\"cord\",\"loose\",\"everything\",\"wallet\",\"somewhere\",\"take\",\"whole\",\"purse\",\"etc\",\"though\",\"planner\",\"ring\",\"type\",\"address\",\"book\",\"unfortunately\",\"cassette\",\"deck\",\"car\",\"radios\",\"hard\",\"find\",\"frills\",\"amazing\",\"7\",\"light\",\"definitely\",\"vehicles\",\"samsung\",\"p3\",\"problems\",\"adds\",\"certain\",\"thickness\",\"player\",\"seem\",\"fat\",\"makes\",\"durable\",\"already\",\"protects\",\"scratches\",\"falls\",\"prevents\",\"sliding\",\"slippery\",\"surface\",\"gripes\",\"attracts\",\"dust\",\"matter\",\"seconds\",\"leads\",\"onto\",\"easily\",\"wipe\",\"blow\",\"might\",\"clean\",\"soap\",\"water\",\"deal\",\"gripe\",\"completely\",\"covering\",\"muffle\",\"external\",\"speaker\",\"listening\",\"bend\",\"corner\",\"covers\",\"back\",\"expose\",\"much\",\"replace\",\"done\",\"aside\",\"minor\",\"terribly\",\"expensive\",\"either\",\"skin\",\"itouch\",\"underneath\",\"pink\",\"expecting\",\"probably\",\"looked\",\"50\",\"difference\",\"kind\",\"finally\",\"weird\",\"prints\",\"nice\",\"color\",\"barely\",\"sort\",\"hot\",\"circle\",\"quality\",\"different\",\"nicer\",\"pice\",\"sleek\",\"gives\",\"protection\",\"colors\",\"faster\",\"expected\",\"loved\",\"cerwin\",\"vega\",\"h435d\",\"pure\",\"sound\",\"loud\",\"setting\",\"standards\",\"making\",\"nothing\",\"needed\",\"carrying\",\"takes\",\"care\",\"cases\",\"choice\",\"tween\",\"teen\",\"present\",\"niece\",\"thrilled\",\"received\",\"wait\",\"books\",\"start\",\"reading\",\"wifi\",\"excellent\",\"condition\",\"features\",\"impacted\",\"program\",\"priced\",\"strong\",\"holds\",\"belt\",\"easy\",\"cover\",\"job\",\"protecting\",\"looking\",\"made\",\"materials\",\"1\",\"month\",\"latest\",\"generation\",\"touch\",\"tacky\",\"slip\",\"feel\",\"thought\",\"broken\",\"music\",\"manage\",\"january\",\"25\",\"practically\",\"defective\",\"release\",\"button\",\"yet\",\"slide\",\"oem\",\"afraid\",\"may\",\"used\",\"overtime\",\"worst\",\"ac\",\"dangerous\",\"could\",\"started\",\"electrical\",\"fire\",\"placed\",\"socket\",\"noticed\",\"adapter\",\"extremely\",\"small\",\"portion\",\"beginning\",\"melt\",\"unplugged\",\"outer\",\"leaving\",\"rest\",\"device\",\"turn\",\"circuit\",\"breaker\",\"pull\",\"plug\",\"broke\",\"apart\",\"left\",\"prongs\",\"pulled\",\"set\",\"pliers\",\"doubt\",\"longer\",\"awaiting\",\"refund\",\"doubtlessly\",\"luckily\",\"design\",\"flaw\",\"location\",\"ensures\",\"side\",\"produces\",\"noise\",\"separated\",\"vertical\",\"piece\",\"wood\",\"middle\",\"high\",\"material\",\"cool\",\"perfect\",\"rigid\",\"smashed\",\"luggage\",\"international\",\"travel\",\"wished\",\"agenda\",\"cushion\",\"plus\",\"glove\",\"pleased\",\"securehold\",\"gps\",\"auto\",\"dash\",\"friction\",\"mount\",\"tomtom\",\"units\",\"removable\",\"dashboard\",\"without\",\"adhesive\",\"adjustable\",\"secure\",\"disappointed\",\"happened\",\"cannot\",\"activate\",\"software\",\"keys\",\"provided\",\"hardware\",\"fine\",\"activation\",\"unlucky\",\"help\",\"exists\",\"give\",\"form\",\"fill\",\"company\",\"number\",\"website\",\"customer\",\"bounced\",\"see\",\"try\",\"taiwan\",\"user\",\"guide\",\"simple\",\"impression\",\"rush\",\"market\",\"standing\",\"behind\",\"add\",\"refunded\",\"purchase\",\"purchasing\",\"trackstick\",\"tracker\",\"hi\",\"qmail\",\"send\",\"yahoo\",\"com\",\"able\",\"deliver\",\"message\",\"following\",\"addresses\",\"permanent\",\"error\",\"sorry\",\"60\",\"myitrail\",\"62\",\"mail\",\"exchanger\",\"ip\",\"risky\",\"itrail\",\"initially\",\"purchased\",\"nike\",\"armband\",\"sweat\",\"plastic\",\"sleeve\",\"fog\",\"threw\",\"trash\",\"guy\",\"performs\",\"12\",\"thin\",\"huge\",\"6\",\"2\",\"210lbs\",\"band\",\"go\",\"head\",\"iraq\",\"emails\",\"live\",\"employee\",\"grantwood\",\"tech\",\"generated\",\"large\",\"keep\",\"guys\",\"business\",\"clear\",\"friend\",\"wanted\",\"cleaning\",\"cloth\",\"pouch\",\"accessory\",\"devil\",\"never\",\"everybody\",\"say\",\"lift\",\"arm\",\"ever\",\"dropped\",\"style\",\"impressive\",\"portable\",\"compact\",\"designed\",\"thinking\",\"smart\",\"voice\",\"come\",\"usb\",\"convenient\",\"stay\",\"connected\",\"super\",\"leave\",\"ios\",\"walk\",\"youtube\",\"pandora\",\"choose\",\"hear\",\"ready\",\"automatically\",\"sends\",\"sounds\",\"phones\",\"calls\",\"hey\",\"rca\",\"m3904\",\"died\",\"days\",\"went\",\"blank\",\"returned\",\"replacement\",\"unit\",\"year\",\"installing\",\"computer\",\"difficult\",\"easyrip\",\"tm\",\"media\",\"pretty\",\"strait\",\"forward\",\"rip\",\"cd\",\"sources\",\"wma\",\"files\",\"download\",\"tell\",\"create\",\"mp3\",\"wants\",\"sit\",\"desktop\",\"intrude\",\"otherwise\",\"normal\",\"included\",\"earphones\",\"bass\",\"content\",\"fortunately\",\"connecting\",\"headphones\",\"earbuds\",\"reveals\",\"higher\",\"experience\",\"tivoli\",\"radio\",\"results\",\"display\",\"readable\",\"ordinary\",\"room\",\"glasses\",\"controls\",\"hand\",\"responsive\",\"fingers\",\"interface\",\"painful\",\"shuffle\",\"mounted\",\"switch\",\"seems\",\"reasonable\",\"play\",\"day\",\"advertised\",\"slot\",\"buttons\",\"home\",\"thankyou\",\"truth\",\"walls\",\"pin\",\"earpiece\",\"recieved\",\"single\",\"return\",\"beware\",\"size\",\"custom\",\"galaxy\",\"tab\",\"outstanding\",\"slips\",\"velcro\",\"tight\",\"leather\",\"ette\",\"smooth\",\"grain\",\"prefer\",\"actual\",\"grip\",\"immediate\",\"usable\",\"lock\",\"ports\",\"camera\",\"windows\",\"cut\",\"accurately\",\"accessibility\",\"version\",\"sim\",\"card\",\"microsd\",\"blocked\",\"holes\",\"aligned\",\"snaps\",\"trying\",\"somehow\",\"circuitry\",\"wild\",\"14jan2011\",\"indeed\",\"luxury\",\"convertible\",\"carbon\",\"flip\",\"black\",\"offered\",\"handhelditems\",\"enjoyable\",\"listen\",\"entertained\",\"enjoyed\",\"liked\",\"show\",\"goes\",\"beat\",\"coming\",\"dislike\",\"part\",\"requires\",\"concern\",\"batteries\",\"capacitor\",\"altho\",\"certified\",\"junk\",\"cords\",\"stoped\",\"week\",\"th\",\"wouldnt\",\"recomend\",\"wiring\",\"meeds\",\"advertized\",\"didnt\",\"last\",\"quickly\",\"scratched\",\"considerably\",\"replacing\",\"damaged\",\"accessories\",\"place\",\"lip\",\"bottom\",\"interferes\",\"jack\",\"stayed\",\"apply\",\"near\",\"plugs\",\"believe\",\"attach\",\"move\",\"promptly\",\"complaints\",\"perhaps\",\"downside\",\"point\",\"knew\",\"buying\",\"raised\",\"harder\",\"someone\",\"larger\",\"spin\",\"jog\",\"wheel\",\"trouble\",\"turning\",\"function\",\"suction\",\"weather\",\"conditions\",\"ability\",\"rotate\",\"dvr\",\"driving\",\"companion\",\"mall\",\"35\",\"doesnt\",\"whatsoever\",\"cant\",\"unless\",\"plugged\",\"horribly\",\"inconvenient\",\"charges\",\"cell\",\"dead\",\"capacity\",\"wrong\",\"solid\",\"reasonably\",\"quick\",\"considering\",\"fact\",\"built\",\"fumble\",\"finding\",\"fell\",\"regret\",\"wish\",\"slightly\",\"smaller\",\"physical\",\"sure\",\"receiver\",\"worked\",\"described\",\"shipped\",\"aux\",\"connects\",\"internet\",\"couple\",\"notes\",\"pick\",\"call\",\"transmitter\",\"sync\",\"tv\",\"overall\",\"numerous\",\"past\",\"must\",\"recorder\",\"factory\",\"every\",\"aspect\",\"unusable\",\"recording\",\"pre\",\"recorded\",\"becuase\",\"packaged\",\"packaging\",\"order\",\"remove\",\"thus\",\"distroying\",\"disappointing\",\"frustrating\",\"ejoy\",\"awesome\",\"massive\",\"headset\",\"ear\",\"world\",\"useful\",\"example\",\"biking\",\"traffic\",\"pens\",\"alot\",\"uneven\",\"disspointed\",\"contated\",\"vendor\",\"told\",\"noted\",\"description\",\"fiancee\",\"jrune\",\"justa\",\"flimsy\",\"tablet\",\"turned\",\"landscape\",\"position\",\"stylus\",\"presenter\",\"presentations\",\"easer\",\"five\",\"stars\",\"except\",\"drill\",\"extra\",\"woofer\",\"seal\",\"silicone\",\"box\",\"sealed\",\"absolutely\",\"critical\",\"attribute\",\"steel\",\"basket\",\"holding\",\"flat\",\"clamped\",\"scrapped\",\"stock\",\"rubber\",\"created\",\"leaks\",\"anyways\",\"sub\",\"100\",\"dvc\",\"articulation\",\"midbass\",\"crossover\",\"causing\",\"distortion\",\"front\",\"rumbles\",\"admirably\",\"0cu\",\"ft\",\"ton\",\"internal\",\"bracing\",\"parallel\",\"interior\",\"prevent\",\"waves\",\"peaky\",\"response\",\"definite\",\"sq\",\"thumps\",\"em\",\"powered\",\"250w\",\"amp\",\"125x2\",\"2ohms\",\"office\",\"misrepresented\",\"onyx\",\"darker\",\"depicted\",\"photos\",\"basically\",\"charcoal\",\"visible\",\"expect\",\"granddaughter\",\"put\",\"immediately\",\"many\",\"compliments\",\"friends\",\"asked\",\"advice\",\"ather\",\"shoppers\",\"figured\",\"paid\",\"close\",\"exceeds\",\"installed\",\"polaris\",\"rzr\",\"anything\",\"concerned\",\"longevity\",\"glad\",\"people\",\"confidence\",\"storage\",\"bit\",\"years\",\"taking\",\"boot\",\"stopped\",\"hoping\",\"maybe\",\"disconnected\",\"rear\",\"vision\",\"checked\",\"fuses\",\"navigation\",\"stop\",\"ionic\",\"keyboard\",\"space\",\"key\",\"non\",\"realized\",\"thumb\",\"generally\",\"essentially\",\"doa\",\"contacted\",\"crazyondigital\",\"replaced\",\"holder\",\"angle\",\"functional\",\"dislodged\",\"shut\",\"closed\",\"fidget\",\"says\",\"walkman\",\"access\",\"cost\",\"man\",\"waited\",\"awhile\",\"goodies\",\"cents\",\"dollar\",\"omg\",\"treat\",\"al\",\"lthe\",\"toys\",\"oh\",\"prime\",\"best79\",\"dollars\",\"spent\",\"rockin\",\"rob\",\"thanks\",\"digital\",\"owned\",\"blown\",\"torn\",\"downloaded\",\"several\",\"delighted\",\"amazed\",\"read\",\"glare\",\"bothersome\",\"adapted\",\"notice\",\"full\",\"sunlight\",\"contrast\",\"real\",\"multiple\",\"literary\",\"items\",\"sister\",\"old\",\"shipping\",\"soon\",\"stick\",\"spars\",\"wasted\",\"diconnect\",\"connector\",\"housing\",\"metal\",\"split\",\"tape\",\"dozen\",\"tries\",\"christmas\",\"anyone\",\"saying\",\"hawai\",\"beautiful\",\"hibiscus\",\"coolest\",\"island\",\"image\",\"online\",\"wallpaper\",\"completes\",\"theme\",\"recently\",\"charging\",\"cradle\",\"figure\",\"bright\",\"stuff\",\"shock\",\"sensors\",\"mic\",\"setup\",\"parameter\",\"speed\",\"alerts\",\"motion\",\"instructions\",\"gets\",\"across\",\"pointers\",\"usa\",\"shopping\",\"pay\",\"cards\",\"20\",\"00\",\"30\",\"provider\",\"additional\",\"15\",\"contract\",\"fee\",\"picked\",\"shelved\",\"emergency\",\"verify\",\"engrish\",\"uses\",\"text\",\"commands\",\"guides\",\"vary\",\"specific\",\"manual\",\"clone\",\"various\",\"clones\",\"nuances\",\"chinese\",\"door\",\"shaved\",\"tabs\",\"build\",\"models\",\"slice\",\"breaking\",\"frame\",\"brand\",\"new\",\"tough\",\"long\",\"dependable\",\"8\",\"cheaper\",\"movie\",\"theater\",\"research\",\"u\",\"customize\",\"scribbling\",\"arrival\",\"earlier\",\"due\",\"annoyed\",\"question\",\"asks\",\"plant\",\"1000\",\"rms\",\"article\",\"surprise\",\"500\",\"bone\",\"istalar\",\"base\",\"god\",\"holy\",\"demand\",\"understand\",\"brother\",\"serious\",\"person\",\"clarify\",\"search\",\"began\",\"inspect\",\"consequently\",\"searched\",\"websites\",\"ultimately\",\"settled\",\"duragadget\",\"selected\",\"easier\",\"stiff\",\"often\",\"packing\",\"stuffed\",\"briefcase\",\"crushing\",\"squeeze\",\"sides\",\"trick\",\"folds\",\"propped\",\"airline\",\"tray\",\"table\",\"adjustability\",\"viewing\",\"angles\",\"possible\",\"hinges\",\"narrow\",\"hope\",\"survive\",\"abuse\",\"opening\",\"closing\",\"value\",\"combined\",\"cheers\",\"bgf\",\"reach\",\"co\",\"operate\",\"advertises\",\"rechargeable\",\"mentioning\",\"include\",\"standard\",\"warranty\",\"paperwork\",\"arrives\",\"tells\",\"limtech\",\"insecurely\",\"fastened\",\"hole\",\"labelled\",\"dc\",\"5v\",\"container\",\"lid\",\"stickers\",\"designs\",\"lids\",\"exact\",\"cup\",\"us\",\"sticks\",\"break\",\"crap\",\"waste\",\"visor\",\"repeatedly\",\"testing\",\"supposed\",\"advertising\",\"mention\",\"wearer\",\"view\",\"blocking\",\"instrument\",\"scan\",\"naked\",\"misleading\",\"bulky\",\"dark\",\"blue\",\"unzip\",\"favorite\",\"daughters\",\"local\",\"discount\",\"thank\",\"providing\",\"afford\",\"places\",\"sturdy\",\"4s\",\"foot\",\"android\",\"via\",\"neither\",\"option\",\"fairly\",\"inexpensive\",\"solution\",\"upon\",\"stream\",\"yeah\",\"inform\",\"5mm\",\"mentioned\",\"insert\",\"sd\",\"reader\",\"hook\",\"earphone\",\"bad\",\"tuned\",\"clack\",\"gears\",\"issue\",\"hooked\",\"feedback\",\"noticeable\",\"hooking\",\"separate\",\"rather\",\"length\",\"pc\",\"desk\",\"outlet\",\"furniture\",\"sony\",\"november\",\"surpassed\",\"expectations\",\"attempted\",\"next\",\"resulted\",\"library\",\"click\",\"authorized\",\"e\",\"totld\",\"receive\",\"24\",\"three\",\"explained\",\"situation\",\"rep\",\"course\",\"total\",\"talked\",\"arrangements\",\"letter\",\"explaining\",\"attempts\",\"myers\",\"fl\",\"center\",\"talk\",\"inbursed\",\"appears\",\"intent\",\"strange\",\"1st\",\"loaded\",\"account\",\"occassionally\",\"fails\",\"rated\",\"attempt\",\"imburse\",\"unable\",\"recieve\",\"late\",\"impatient\",\"hate\",\"waiting\",\"grate\",\"porduct\",\"cam\",\"install\",\"video\",\"images\",\"crystal\",\"daytime\",\"eyes\",\"night\",\"hides\",\"mirror\",\"although\",\"pricey\",\"needs\",\"record\",\"32\",\"fm\",\"preset\",\"stations\",\"96\",\"gmc\",\"truck\",\"podcasts\",\"slave\",\"mistake\",\"istalls\",\"end\",\"harness\",\"aware\",\"ask\",\"input\",\"simply\",\"headphone\",\"inputs\",\"pac\",\"voilla\",\"lower\",\"rewards\",\"coupon\",\"modulator\",\"interfaces\",\"available\",\"allow\",\"poorest\",\"heard\",\"recomnend\",\"classic\",\"children\",\"ipods\",\"others\",\"comment\",\"whether\",\"breaks\",\"bedroom\",\"pairing\",\"sennihauser\",\"snap\",\"protectors\",\"pieces\",\"specifically\",\"covered\",\"sticker\",\"least\",\"partially\",\"uncovered\",\"seemed\",\"confused\",\"said\",\"sell\",\"teenagers\",\"performance\",\"fun\",\"kids\",\"plate\",\"bacause\",\"ligh\",\"weight\",\"locally\",\"adapters\",\"lasted\",\"usually\",\"drive\",\"town\",\"minutes\",\"hour\",\"major\",\"alleviates\",\"keeps\",\"awake\",\"zune\",\"hd\",\"addition\",\"zagg\",\"decided\",\"fully\",\"cutting\",\"types\",\"2006\",\"chrysler\",\"country\",\"van\",\"wires\",\"miami\",\"purchasesd\",\"ago\",\"horrible\",\"living\",\"city\",\"limited\",\"poor\",\"dissapointed\",\"credit\",\"authorization\",\"cancel\",\"headache\",\"hitting\",\"orion\",\"xtr\",\"800\",\"class\",\"amplifier\",\"2g\",\"ohms\",\"watts\",\"indecently\",\"rating\",\"match\",\"decently\",\"cvm\",\"creative\",\"green\",\"required\",\"field\",\"patch\",\"enable\",\"accommodate\",\"padded\",\"seat\",\"decent\",\"yes\",\"clunky\",\"window\",\"prop\",\"dealy\",\"sketchy\",\"eye\",\"eventually\",\"saw\",\"ones\",\"suprise\",\"identical\",\"kroo\",\"thinner\",\"anyhow\",\"strap\",\"appear\",\"dork\",\"ezopower\",\"compared\",\"competition\",\"inch\",\"flips\",\"watching\",\"videos\",\"wonderful\",\"sheets\",\"peel\",\"wreck\",\"sheet\",\"please\",\"uploaded\",\"strip\",\"bubbles\",\"4th\",\"tests\",\"manhattan\",\"queens\",\"san\",\"francisco\",\"satellite\",\"landed\",\"familiar\",\"everywhere\",\"satellites\",\"rebooted\",\"bushnell\",\"blink\",\"success\",\"building\",\"walking\",\"yards\",\"central\",\"park\",\"took\",\"locked\",\"fooled\",\"totally\",\"direction\",\"awful\",\"boyfriend\",\"uncomfortable\",\"period\",\"power\",\"affect\",\"borrow\",\"pyle\",\"tweeters\",\"important\",\"tons\",\"panel\",\"tweeter\",\"mounting\",\"screws\",\"solder\",\"connections\",\"coil\",\"terminals\",\"cause\",\"catastrophic\",\"failure\",\"ashamed\",\"assumed\",\"realize\",\"happening\",\"obvious\",\"supplied\",\"force\",\"destroy\",\"contact\",\"ruined\",\"salvage\",\"soldering\",\"documentation\",\"warned\",\"pitfall\",\"kid\",\"pandigital\",\"based\",\"reviews\",\"things\",\"delivers\",\"accessible\",\"instance\",\"transfer\",\"locations\",\"kna\",\"g431\",\"gpx\",\"kenwood\",\"existant\",\"edge\",\"extender\",\"curved\",\"ends\",\"straight\",\"pass\",\"hesitant\",\"license\",\"cash\",\"saver\",\"added\",\"edit\",\"wall\",\"literally\",\"brittle\",\"http\",\"www\",\"gp\",\"b0017txe38\",\"ref\",\"oh_details_o03_s00_i00\",\"ie\",\"utf8\",\"psc\",\"fantastic\",\"anywhere\",\"adorable\",\"served\",\"lil\",\"dynamo\",\"recommned\",\"troubles\",\"skipping\",\"c\",\"remote\",\"timely\",\"manner\",\"bike\",\"unique\",\"sportys\",\"sharp\",\"bar\",\"pressed\",\"paired\",\"nicely\",\"compatible\",\"vehicle\",\"intended\",\"chic\",\"worn\",\"bits\",\"granted\",\"medium\",\"settings\",\"games\",\"graphics\",\"xbox\",\"ps4\",\"draw\",\"distance\",\"details\",\"resolution\",\"depends\",\"game\",\"miss\",\"upgraded\",\"gtx\",\"970\",\"msi\",\"gb\",\"twin\",\"frozr\",\"oc\",\"edition\",\"cheep\",\"correctly\",\"weeks\",\"11\",\"thinks\",\"machine\",\"shots\",\"feels\",\"virus\",\"careful\",\"fiddling\",\"clip\",\"whenever\",\"minute\",\"site\",\"remotes\",\"fishing\",\"computers\",\"tablets\",\"hdx\",\"superior\",\"ordering\",\"choices\",\"seemingly\",\"caught\",\"kf\",\"thx\",\"yay\",\"inventions\",\"pop\",\"print\",\"whatever\",\"quantity\",\"comparable\",\"select\",\"press\",\"approx\",\"per\",\"cartridge\",\"printed\",\"40\",\"enjoy\",\"ok\",\"hassle\",\"pros\",\"supported\",\"formats\",\"copy\",\"pdf\",\"word\",\"txt\",\"jpeg\",\"infact\",\"sophisticated\",\"expandable\",\"memory\",\"plugin\",\"extend\",\"extendable\",\"cons\",\"annoy\",\"workaround\",\"tilting\",\"bugs\",\"crashing\",\"functionalities\",\"disappear\",\"font\",\"readers\",\"foxit\",\"advantage\",\"communicating\",\"hopefull\",\"fixed\",\"writing\",\"stages\",\"hit\",\"stopping\",\"points\",\"lightweight\",\"cute\",\"profile\",\"rim\",\"includes\",\"hub\",\"variety\",\"worts\",\"directed\",\"accept\",\"tou\",\"forcing\",\"registration\",\"planning\",\"stupidest\",\"agree\",\"terms\",\"note\",\"successfully\",\"process\",\"continue\",\"stuck\",\"options\",\"hotspot\",\"register\",\"brick\",\"netgear\",\"router\",\"802\",\"11g\",\"b\",\"wep\",\"wpa\",\"capable\",\"wpa2\",\"security\",\"managed\",\"password\",\"answers\",\"steps\",\"fix\",\"tiered\",\"supervisor\",\"pry\",\"runs\",\"1x\",\"eap\",\"network\",\"googling\",\"causes\",\"step\",\"hunt\",\"public\",\"showed\",\"upload\",\"screensavers\",\"documents\",\"250mb\",\"pdfs\",\"modernist\",\"cuisine\",\"series\",\"300mb\",\"calibre\",\"denny\",\"okay\",\"restaurant\",\"chapter\",\"check\",\"characters\",\"crisp\",\"adjustments\",\"including\",\"list\",\"fonts\",\"margins\",\"grey\",\"tougher\",\"paper\",\"apt\",\"watt\",\"illuminating\",\"personally\",\"page\",\"tend\",\"cupped\",\"swipe\",\"pages\",\"os\",\"simpler\",\"epubs\",\"grinds\",\"phantom\",\"established\",\"designers\",\"worse\",\"marketing\",\"department\",\"ebook\",\"organize\",\"checking\",\"shelf\",\"system\",\"damn\",\"scratch\",\"organizational\",\"ya\",\"savers\",\"forget\",\"fancy\",\"idea\",\"default\",\"bunch\",\"famous\",\"authors\",\"nature\",\"scenes\",\"remember\",\"directly\",\"folder\",\"name\",\"800x600\",\"pics\",\"jpg\",\"png\",\"portrait\",\"voila\",\"str\",\"trek\",\"geeky\",\"snapshots\",\"convert\",\"16\",\"greys\",\"kinda\",\"viewer\",\"complete\",\"breeze\",\"16gb\",\"micro\",\"sale\",\"mounts\",\"separately\",\"loading\",\"main\",\"sf\",\"collection\",\"classics\",\"completed\",\"operating\",\"adding\",\"juicy\",\"goodness\",\"displays\",\"incorporate\",\"formatting\",\"document\",\"reads\",\"easiest\",\"format\",\"disorienting\",\"consistentreading\",\"bah\",\"spare\",\"sigh\",\"meant\",\"100s\",\"tim\",\"taylor\",\"grunt\",\"shelves\",\"track\",\"internally\",\"entire\",\"functions\",\"sets\",\"lord\",\"rings\",\"onboard\",\"shorter\",\"lists\",\"mean\",\"stress\",\"exploring\",\"n\",\"elsewhere\",\"mighty\",\"ads\",\"joy\",\"final\",\"entry\",\"sees\",\"star\",\"moving\",\"heed\",\"speedbumps\",\"delight\",\"avoiding\",\"disorientation\",\"helpful\",\"bite\",\"thsi\",\"funny\",\"clearance\",\"kmart\",\"wired\",\"1970\",\"at1\",\"125\",\"yamaha\",\"enduro\",\"correct\",\"flawless\",\"pack\",\"wal\",\"mart\",\"apparently\",\"bubble\",\"edges\",\"hahahaha\",\"third\",\"gross\",\"frustrated\",\"claim\",\"false\",\"5s\",\"ships\",\"everyone\",\"instantly\",\"carefully\",\"together\",\"sitting\",\"toolbox\",\"integrated\",\"project\",\"result\",\"follow\",\"hinge\",\"method\",\"effect\",\"sensitivity\",\"nuvi\",\"67lm\",\"transparent\",\"film\",\"applied\",\"alcohol\",\"pad\",\"fiber\",\"anti\",\"matte\",\"house\",\"suppose\",\"hands\",\"awsome\",\"thatsba\",\"ur\",\"herebisngreat\",\"starts\",\"lost\",\"wow\",\"transmit\",\"audio\",\"level\",\"twice\",\"wide\",\"modes\",\"programming\",\"published\",\"signal\",\"specified\",\"run\",\"application\",\"netbook\",\"vista\",\"broadcomm\",\"dongle\",\"remain\",\"incompatible\",\"bluesoblell\",\"resolved\",\"google\",\"earth\",\"tracking\",\"selections\",\"magellan\",\"holux\",\"m1000\",\"data\",\"freeze\",\"interruption\",\"communication\",\"preventing\",\"driver\",\"undisclosed\",\"cecompass\",\"alone\",\"double\",\"produce\",\"recommended\",\"ad\",\"amount\",\"volunteer\",\"increase\",\"recomended\",\"arrive\",\"stereo\",\"1200\",\"bang\",\"buck\",\"quirks\",\"200\",\"rocks\",\"minutely\",\"comfortable\",\"carried\",\"folded\",\"serve\",\"horizontal\",\"vinyl\",\"crack\",\"microphone\",\"32gb\",\"3rd\",\"gen\",\"title\",\"warning\",\"output\",\"kick\",\"messages\",\"capability\",\"dictations\",\"memos\",\"530\",\"converter\",\"dvd\",\"shuts\",\"stinks\",\"burning\",\"fan\",\"overheating\",\"motor\",\"ect\",\"nt\",\"chance\",\"screwed\",\"trade\",\"diff\",\"allways\",\"fitted\",\"s197\",\"average\",\"wife\",\"anymore\",\"terrible\",\"cracked\",\"sounded\",\"sylus\",\"allows\",\"eh\",\"brag\",\"ban\",\"shows\",\"begin\",\"stops\",\"wireless\",\"hearing\",\"aids\",\"latency\",\"siemens\",\"tek\",\"control\",\"flawlessly\",\"talking\",\"voices\",\"keyboards\",\"pronouced\",\"rhythm\",\"literature\",\"dongles\",\"expierence\",\"players\",\"droped\",\"kinds\",\"dents\",\"repaired\",\"fish\",\"finder\",\"batter\",\"tools\",\"vague\",\"casing\",\"halves\",\"installation\",\"resorted\",\"precision\",\"screwdriver\",\"separation\",\"sensor\",\"honda\",\"ridgeline\",\"perfessional\",\"surprised\",\"pillars\",\"folding\",\"seats\",\"routed\",\"led\",\"steering\",\"screw\",\"placement\",\"maintain\",\"column\",\"glue\",\"helping\",\"sense\",\"blind\",\"spots\",\"parking\",\"blame\",\"improper\",\"grounding\",\"engine\",\"components\",\"sharing\",\"ground\",\"prognosis\",\"troubleshooting\",\"flow\",\"chart\",\"searching\",\"diagnose\",\"suppress\",\"crutch\",\"taught\",\"previously\",\"nervous\",\"s10\",\"lowering\",\"raising\",\"squeal\",\"amplified\",\"regardless\",\"helps\",\"delivered\",\"within\",\"damages\",\"unlike\",\"rate\",\"port\",\"puts\",\"1a\",\"newer\",\"2a\",\"gift\",\"law\",\"tested\",\"bose\",\"pump\",\"picking\",\"lousy\",\"insurance\",\"clown\",\"sign\",\"hampshire\",\"politicians\",\"refuse\",\"mandate\",\"compulsory\",\"liability\",\"smallest\",\"loops\",\"loses\",\"taken\",\"apartment\",\"complex\",\"grandson\",\"plays\",\"partner\",\"master\",\"platinm\",\"18\",\"slid\",\"seamlessly\",\"saved\",\"projects\",\"misplaced\",\"disc\",\"pp18\",\"art\",\"potential\",\"current\",\"firmware\",\"baofengs\",\"offset\",\"ignored\",\"tx\",\"rx\",\"frequencies\",\"channel\",\"assigning\",\"names\",\"manually\",\"cumbersome\",\"serial\",\"emulation\",\"sw\",\"paste\",\"chirp\",\"xp\",\"prolific\",\"limitations\",\"win\",\"mscomctl\",\"ocx\",\"humming\",\"source\",\"loss\",\"encoder\",\"active\",\"beep\",\"finds\",\"interference\",\"suffers\",\"fed\",\"cigarette\",\"lighter\",\"china\",\"dealer\",\"willing\",\"therefore\",\"99\",\"forces\",\"owners\",\"stating\",\"dependent\",\"cycles\",\"thattime\",\"mileage\",\"exceptionally\",\"menu\",\"navigate\",\"excepted\",\"usefull\",\"zen\",\"bounce\",\"fall\",\"clasp\",\"eliminating\",\"finger\",\"touchpad\",\"interfering\",\"touchscreen\",\"missing\",\"touches\",\"angry\",\"birds\",\"typing\",\"tweet\",\"dryer\",\"rub\",\"feeling\",\"sooner\",\"eforcity\",\"post\",\"bucks\",\"responded\",\"resolve\",\"cheaply\",\"tower4269\",\"coworkers\",\"outdoor\",\"activites\",\"residue\",\"air\",\"bag\",\"code\",\"reset\",\"linking\",\"srs\",\"abs\",\"scans\",\"claimed\",\"gm\",\"cars\",\"zone\",\"refunding\",\"plop\",\"windshield\",\"duty\",\"extension\",\"st1300\",\"motorcycle\",\"constantly\",\"removing\",\"stores\",\"protective\",\"bill\",\"opens\",\"pushing\",\"saddlebag\",\"functionality\",\"avoid\",\"animal\",\"alternatives\",\"attractive\",\"synthetic\",\"simplicity\",\"foam\",\"snug\",\"bulk\",\"true\",\"retractable\",\"smack\",\"hong\",\"kong\",\"forever\",\"huawei\",\"smartphone\",\"anyway\",\"satisfied\",\"con\",\"referbished\",\"happier\",\"decision\",\"handle\",\"neg\",\"presentation\",\"kinter\",\"170\",\"reason\",\"hint\",\"photoshop\",\"hide\",\"tale\",\"signs\",\"listings\",\"bridged\",\"mask\",\"identity\",\"pig\",\"monkeys\",\"butt\",\"squished\",\"nose\",\"tail\",\"sucks\",\"2nd\",\"despite\",\"model\",\"rainbows\",\"patience\",\"nemo\",\"hollographic\",\"3d\",\"id\",\"english\",\"execution\",\"cowon\",\"speaking\",\"customers\",\"bankrupt\",\"streets\",\"learned\",\"cursor\",\"jumped\",\"friendly\",\"deluo\",\"changing\",\"laptop\",\"conflicting\",\"mouse\",\"accurate\",\"parts\",\"trip\",\"map\",\"inaccurate\",\"developments\",\"rectified\",\"negative\",\"boom\",\"lawn\",\"chairs\",\"terrificly\",\"ps3\",\"ps2\",\"wii\",\"convenience\",\"laying\",\"bed\",\"hdmi\",\"gorgeous\",\"vga\",\"pristine\",\"v\",\"slight\",\"blur\",\"miniscule\",\"smooths\",\"gamecube\",\"mono\",\"let\",\"heaven\",\"struggle\",\"dr\",\"beats\",\"eat\",\"obscene\",\"ridiculous\",\"glitchy\",\"reseting\",\"listing\",\"thirty\",\"report\",\"sites\",\"hundred\",\"metronomes\",\"properly\",\"boss\",\"ought\",\"recall\",\"mainly\",\"backpacking\",\"flashlight\",\"juice\",\"digitizer\",\"3g\",\"pls\",\"incorrect\",\"information\",\"hds\",\"school\",\"adequate\",\"attaches\",\"magnetically\",\"removed\",\"unlikely\",\"overpaying\",\"camping\",\"boost\",\"whoever\",\"299\",\"im\",\"tuners\",\"weak\",\"analog\",\"ntsc\",\"autoscan\",\"slow\",\"misses\",\"qam\",\"showing\",\"unencrypted\",\"channels\",\"flatscreen\",\"cooler\",\"happen\",\"antenna\",\"worthless\",\"core\",\"copper\",\"wire\",\"japanese\",\"actuality\",\"applying\",\"cutouts\",\"personal\",\"glk\",\"350\",\"benz\",\"police\",\"picks\",\"fires\",\"cloudly\",\"podio\",\"handsome\",\"envisioned\",\"diameter\",\"cent\",\"coin\",\"pleasing\",\"achieves\",\"frequency\",\"range\",\"pointed\",\"listener\",\"throughout\",\"compete\",\"multi\",\"boombox\",\"systems\",\"levels\",\"portability\",\"backpack\",\"fills\",\"gap\",\"pair\",\"modern\",\"equivalent\",\"transistor\",\"transmitting\",\"itrip\",\"dish\",\"combo\",\"nuv\\u00ef\",\"2555\",\"passenger\",\"likes\",\"lets\",\"watch\",\"finish\",\"practice\",\"dock\",\"ample\",\"ways\",\"sports\",\"soft\",\"overcome\",\"orientation\",\"90\",\"degrees\",\"ive\",\"maxed\",\"subwoofer\",\"dosnt\",\"distort\",\"hits\",\"polk\",\"subwoofers\",\"farely\",\"fujifilm\",\"w3\",\"enjoying\",\"cambridge\",\"720\",\"exceptional\",\"boxes\",\"soundworks\",\"proved\",\"unsuccesful\",\"instructed\",\"approximately\",\"ensure\",\"rarely\",\"surely\",\"construction\",\"suppliers\",\"studs\",\"crimped\",\"aluminum\",\"unacceptable\",\"0\",\"guage\",\"conductors\",\"switches\",\"sturdier\",\"repairs\",\"muted\",\"teal\",\"surrounds\",\"mother\",\"gotten\",\"albow\",\"grease\",\"stable\",\"bulbs\",\"bayonet\",\"test\",\"lit\",\"dual\",\"bulb\",\"fixture\",\"motorhome\",\"opted\",\"toilet\",\"benifit\",\"reduced\",\"heat\",\"continues\",\"grow\",\"manufacturer\",\"lumens\",\"warmth\",\"satisfactory\",\"driven\",\"minimum\",\"pricetag\",\"father\",\"alternative\",\"sportband\",\"affordable\",\"darn\",\"consider\",\"sneakers\",\"shoe\",\"laces\",\"duct\",\"devices\",\"ranging\",\"latex\",\"shoes\",\"overly\",\"everyday\",\"calibration\",\"mile\",\"workday\",\"morning\",\"milers\",\"falters\",\"routine\",\"usual\",\"miles\",\"accuracy\",\"changes\",\"gait\",\"clearly\",\"effects\",\"route\",\"enormous\",\"training\",\"race\",\"pace\",\"trust\",\"telling\",\"adjustment\",\"parameters\",\"substitute\",\"meantime\",\"giving\",\"technical\",\"n2a\",\"file\",\"empty\",\"costumer\",\"reorder\",\"flemsy\",\"ross\",\"marshalls\",\"mustang\",\"worried\",\"challenge\",\"seen\",\"alpine\",\"playback\",\"app\",\"clarity\",\"speck\",\"candyshell\",\"lol\",\"suspect\",\"users\",\"toolkit\",\"safe\",\"electronics\",\"definately\",\"prettier\",\"shiny\",\"silver\",\"caused\",\"cellphone\",\"velvet\",\"texture\",\"exudes\",\"2009\",\"radar\",\"detector\",\"currently\",\"150\",\"300\",\"abc\",\"special\",\"hidden\",\"cops\",\"pisses\",\"advanced\",\"speeding\",\"tickets\",\"x\",\"champ\",\"instruction\",\"package\",\"8xs\",\"zoom\",\"supposedly\",\"beforehand\",\"booklet\",\"havent\",\"pleasantly\",\"45w\",\"x4\",\"board\",\"overdrive\",\"combine\",\"motorized\",\"autopc\",\"answering\",\"questions\",\"otterbox\",\"knock\",\"merchant\",\"nope\",\"otter\",\"wonders\",\"subject\",\"drops\",\"spills\",\"downgraded\",\"flaking\",\"peeling\",\"8months\",\"pro\",\"combination\",\"learn\",\"kit\",\"thumbs\",\"programs\",\"inovation\",\"creating\",\"consumer\",\"grand\",\"gifts\",\"satisfaction\",\"lacking\",\"reealize\",\"litteral\",\"transelations\",\"prepare\",\"experimenting\",\"gadget\",\"anotherone\",\"kobo\",\"vox\",\"pen\",\"archos\",\"today\",\"busy\",\"october\",\"held\",\"shell\",\"provides\",\"2789lmt\",\"recess\",\"faux\",\"hangs\",\"jam\",\"pickup\",\"vent\",\"zero\",\"wiggle\",\"impressed\",\"beaten\",\"ended\",\"elevationlabs\",\"dome\",\"hurting\",\"consumption\",\"kitchen\",\"thoughts\",\"rooms\",\"garage\",\"limit\",\"stereophonic\",\"vocals\",\"states\",\"restock\",\"postage\",\"means\",\"dump\",\"happens\",\"zingzingshop\",\"zingzing\",\"ep\",\"nine\",\"contractor\",\"allowing\",\"worries\",\"snuggly\",\"kilometers\",\"changed\",\"mph\",\"professionally\",\"toyota\",\"avalon\",\"sat\",\"isimple\",\"operator\",\"independent\",\"confusion\",\"related\",\"skip\",\"suitable\",\"buds\",\"camcorder\",\"cameras\",\"handy\",\"dying\",\"allowed\",\"705\",\"um\",\"decorate\",\"deferent\",\"taste\",\"falling\",\"drop\",\"pod\",\"older\",\"occasionally\",\"plunge\",\"stutter\",\"hesitate\",\"counter\",\"tick\",\"section\",\"numbers\",\"supercalafragilisticexpialadoshus\",\"mess\",\"ra\",\"hanging\",\"heights\",\"surfaces\",\"holster\",\"iphone5\",\"sounddock\",\"iii\",\"benefit\",\"unplug\",\"sits\",\"ears\",\"ripped\",\"38\",\"childrens\",\"qiickly\",\"helmet\",\"3m\",\"doubled\",\"sized\",\"aeesome\",\"wci\",\"aaaa\",\"operates\",\"lever\",\"fail\",\"pushed\",\"operated\",\"forth\",\"til\",\"ink\",\"jerry\",\"scott\",\"poorly\",\"soldiered\",\"butterfly\",\"diva\",\"personality\",\"statement\",\"protected\",\"needing\",\"flashy\",\"interesting\",\"pattern\",\"rolled\",\"spool\",\"flexible\",\"cca\",\"anther\",\"16awg\",\"monster\",\"ofc\",\"imo\",\"sellers\",\"fault\",\"cliff\",\"spooled\",\"howard\",\"stern\",\"receivers\",\"godawful\",\"sirius\",\"geocaching\",\"gpsr\",\"ditracting\",\"bearing\",\"glance\",\"attached\",\"upper\",\"instruments\",\"rough\",\"roads\",\"golf\",\"cart\",\"incredible\",\"rugged\",\"bracket\",\"grips\",\"tightly\",\"assembly\",\"invoice\",\"shocked\",\"panasonic\",\"scramble\",\"legitimate\",\"jvc\",\"basic\",\"machspeed\",\"spell\",\"album\",\"reboots\",\"freezes\",\"shutting\",\"turns\",\"lives\",\"reliability\",\"2005\",\"jeep\",\"cherokee\",\"configuration\",\"swc\",\"fry\",\"crutchfield\",\"dodge\",\"stratus\",\"garmins\",\"wonderfully\",\"homemade\",\"raido\",\"dose\",\"registering\",\"downloading\",\"appeared\",\"refurbished\",\"razr\",\"v3\",\"failed\",\"emailed\",\"responce\",\"shortly\",\"written\",\"stated\",\"deleting\",\"repair\",\"265t\",\"pants\",\"pockets\",\"pedestrian\",\"lasonics\",\"prior\",\"btq\",\"blast\",\"fiddled\",\"equalizer\",\"adjusted\",\"treble\",\"loudness\",\"shines\",\"overnights\",\"eq\",\"max\",\"crank\",\"26\",\"insane\",\"bodied\",\"beyond\",\"parties\",\"party\",\"woofers\",\"pounded\",\"highs\",\"blew\",\"goto\",\"disabled\",\"spades\",\"retro\",\"purposes\",\"along\",\"lasonic\",\"revision\",\"honesty\",\"grabbin\",\"freakin\",\"red\",\"disable\",\"pictorial\",\"directions\",\"boomboxery\",\"i931btq\",\"mod\",\"particular\",\"ghettoblaster\",\"127\",\"000\",\"square\",\"warehouse\",\"thats\",\"wasnt\",\"inhibit\",\"circulation\",\"possibly\",\"moved\",\"52\",\"dlp\",\"aesthetically\",\"baby\",\"answer\",\"prayers\",\"pegs\",\"legs\",\"hug\",\"extensions\",\"attachments\",\"monsterous\",\"crazy\",\"dogs\",\"bumping\",\"weighs\",\"40lbs\",\"everytime\",\"claims\",\"implementation\",\"engineer\",\"cranked\",\"quieter\",\"boston\",\"abysmal\",\"tinny\",\"frayed\",\"listened\",\"songs\",\"throwing\",\"performing\",\"earned\",\"reusable\",\"dress\",\"blackberries\",\"ball\",\"sore\",\"irrirate\",\"bud\",\"pic\",\"mind\",\"pinkchecker\",\"lie\",\"piaa\",\"brightness\",\"temp\",\"continuous\",\"conspicuity\",\"intensity\",\"riding\",\"repeat\",\"lamps\",\"conspicuous\",\"drivers\",\"kills\",\"daylight\",\"equal\",\"deliberation\",\"chose\",\"lovely\",\"heart\",\"ereader\",\"eyeing\",\"matic\",\"awkward\",\"tummy\",\"textbooks\",\"mix\",\"stolen\",\"ship\",\"previous\",\"orient\",\"frequently\",\"rabbit\",\"improve\",\"reception\",\"mixed\",\"podcast\",\"broadcast\",\"continued\",\"wtf\",\"beautifully\",\"pairs\",\"intuitive\",\"road\",\"cities\",\"ideal\",\"sweater\",\"positive\",\"upbeat\",\"gamble\",\"lifesaver\",\"dirty\",\"cleaned\",\"pet\",\"rug\",\"cat\",\"piss\",\"regular\",\"stains\",\"vacuum\",\"stain\",\"animals\",\"floor\",\"cleaner\",\"cassett\",\"buzz\",\"played\",\"survived\",\"harbor\",\"screens\",\"putting\",\"depending\",\"determine\",\"rainbow\",\"humminbird\",\"transducer\",\"cs\",\"limits\",\"rooster\",\"minion\",\"dave\",\"sings\",\"banana\",\"versatile\",\"4w\",\"despicable\",\"obsessed\",\"paided\",\"fashionable\",\"family\",\"litteraly\",\"write\",\"kickstand\",\"wabaly\",\"showes\",\"movies\",\"roughly\",\"meets\",\"focus\",\"object\",\"feet\",\"blurred\",\"cloudy\",\"sunny\",\"blurry\",\"dashcams\",\"ambarella\",\"chip\",\"ooops\",\"detailed\",\"dozens\",\"luck\",\"reinstall\",\"closely\",\"founds\",\"pissed\",\"sons\",\"bugging\",\"lose\",\"folks\",\"toy\",\"functioning\",\"thrown\",\"crushed\",\"matters\",\"fitting\",\"areas\",\"exclusively\",\"adjust\",\"extended\",\"maximum\",\"sorts\",\"combat\",\"unsucessfull\",\"pads\",\"block\",\"environmental\",\"hav\",\"ups\",\"brought\",\"suggest\",\"fulfilled\",\"future\",\"likely\",\"choosing\",\"lasting\",\"silica\",\"gel\",\"producer\",\"professional\",\"novel\",\"regard\",\"relatively\",\"opened\",\"intend\",\"exceeded\",\"rattel\",\"reviewers\",\"desicion\",\"honest\",\"opinions\",\"pluggered\",\"smiled\",\"spot\",\"prompting\",\"companies\",\"fashion\",\"subs\",\"avid\",\"enthusiast\",\"rockford\",\"fosgate\",\"leading\",\"produced\",\"advertise\",\"originally\",\"infiniti\",\"basslink\",\"stumbled\",\"mtx\",\"liking\",\"receiving\",\"installer\",\"arent\",\"strapped\",\"conserve\",\"amps\",\"louder\",\"knob\",\"cp\",\"trainer\",\"camp\",\"crew\",\"excelent\",\"wings\",\"littlie\",\"environmentally\",\"laser\",\"featured\",\"m6\",\"achilles\",\"heals\",\"upgrade\",\"cycle\",\"copied\",\"dicey\",\"failing\",\"trys\",\"recent\",\"killed\",\"sticking\",\"delete\",\"tracks\",\"shame\",\"dedicated\",\"stroke\",\"sequence\",\"marketplace\",\"shark\",\"sue\",\"exposed\",\"updated\",\"rebooting\",\"ons\",\"vivid\",\"9\",\"yr\",\"silicon\",\"throw\",\"boy\",\"physically\",\"detecting\",\"emissions\",\"lasts\",\"communications\",\"land\",\"considerable\",\"5th\",\"gym\",\"treadmill\",\"compatable\",\"magnets\",\"unremovable\",\"charde\",\"een\",\"caravan\",\"mountain\",\"curves\",\"durability\",\"desire\",\"earplugs\",\"comfort\",\"conceal\",\"itunes\",\"activates\",\"jamming\",\"stored\",\"duplicated\",\"shaver\",\"shave\",\"losing\",\"atv\",\"tree\",\"limbs\",\"bday\",\"soryy\",\"mom\",\"appropriate\",\"moves\",\"tilts\",\"labeled\",\"correspond\",\"truly\",\"smell\",\"fades\",\"yellow\",\"discolor\",\"area\",\"buckle\",\"hoop\",\"ripping\",\"scratchy\",\"pots\",\"disaster\",\"faders\",\"totalled\",\"vintage\",\"arp\",\"odyssey\",\"tapco\",\"4400\",\"toured\",\"dielectric\",\"luberex\",\"cockpit\",\"sailboat\",\"instructional\",\"efficient\",\"iphone5s\",\"nightstand\",\"overnight\",\"bedside\",\"pillow\",\"coupled\",\"macair\",\"hotel\",\"wi\",\"fi\",\"rollick\",\"iluv\",\"seven\",\"kaput\",\"cancelling\",\"japan\",\"nc\",\"feature\",\"imagine\",\"disappointment\",\"istuff\",\"america\",\"frequent\",\"canada\",\"europe\",\"imported\",\"snapped\",\"earbud\",\"restricted\",\"positives\",\"walkmans\",\"growing\",\"discman\",\"sansa\",\"microsoft\",\"fight\",\"premium\",\"nws\",\"716\",\"nwz\",\"584\",\"iriver\",\"canceling\",\"exquisite\",\"describe\",\"lawnmower\",\"weedeater\",\"compressor\",\"reality\",\"watches\",\"neighbor\",\"dog\",\"bleeding\",\"throat\",\"barking\",\"blocks\",\"firing\",\"pistol\",\"complain\",\"haha\",\"fiction\",\"novels\",\"flying\",\"homicidal\",\"rage\",\"distracting\",\"babies\",\"killswitch\",\"engage\",\"devildriver\",\"ignore\",\"army\",\"soldier\",\"sneak\",\"flac\",\"256k\",\"320k\",\"gapless\",\"laughed\",\"complained\",\"albums\",\"sizes\",\"mostly\",\"whisper\",\"blood\",\"leaning\",\"accidentally\",\"george\",\"mcfly\",\"waking\",\"marty\",\"blasting\",\"halen\",\"reference\",\"listens\",\"npr\",\"nerd\",\"thrashy\",\"bads\",\"egregious\",\"suddenly\",\"depress\",\"nowhere\",\"touching\",\"bff\",\"heck\",\"skimmers\",\"balanced\",\"minus\",\"belongs\",\"hiding\",\"fresh\",\"smashing\",\"claw\",\"hammer\",\"married\",\"marry\",\"smash\",\"digits\",\"hamburger\",\"terry\",\"ira\",\"glass\",\"enraged\",\"idorks\",\"eight\",\"tens\",\"hopefully\",\"kicker\",\"comp\",\"mrx\",\"m240\",\"beast\",\"gain\",\"rattles\",\"profesional\",\"shop\",\"compliment\",\"15s\",\"bumps\",\"trunk\",\"opposed\",\"commutation\",\"programed\",\"weekend\",\"yesterday\",\"records\",\"tapes\",\"smoothly\",\"trial\",\"ion\",\"bestie\",\"faqs\",\"helpfull\",\"definetly\",\"subway\",\"rides\",\"load\",\"random\",\"wrap\",\"arounds\",\"drag\",\"paying\",\"interfere\",\"odd\",\"excitement\",\"unboxing\",\"easypak\",\"nt70t\",\"moment\",\"reminiscent\",\"scene\",\"2001\",\"monolith\",\"technology\",\"emerged\",\"stood\",\"leds\",\"lead\",\"realisation\",\"bones\",\"weapons\",\"indication\",\"inquisitive\",\"apes\",\"intrigued\",\"neatly\",\"tucked\",\"tip\",\"spouse\",\"normally\",\"bored\",\"jealous\",\"sexy\",\"giggled\",\"75\",\"genuinely\",\"nexus\",\"relying\",\"logistics\",\"transporting\",\"realistic\",\"meet\",\"coffee\",\"realised\",\"industrial\",\"cableless\",\"smartly\",\"photographs\",\"train\",\"punish\",\"manager\",\"mins\",\"gifting\",\"nt89t\",\"tographs\",\"sport\",\"waterproof\",\"harsh\",\"improved\",\"crate\",\"10c\",\"warm\",\"mellow\",\"rebuilt\",\"1940\",\"cabinet\",\"instal\",\"eminence\",\"kastar\",\"lcd\",\"12v\",\"6a\",\"technica\",\"lp60\",\"jbl\",\"loft\",\"budget\",\"magazine\",\"solar\",\"sun\",\"recharged\",\"wallcharger\",\"faulty\",\"bailed\",\"juncture\",\"soured\",\"powermonkey\",\"shopped\",\"tool\",\"links\",\"milage\",\"calories\",\"pedometer\",\"measuring\",\"accompany\",\"confusing\",\"link\",\"assure\",\"proper\",\"wrist\",\"wrists\",\"tightest\",\"movement\",\"armbands\",\"tourniquet\",\"workouts\",\"calibrate\",\"enter\",\"age\",\"workout\",\"quarter\",\"action\",\"drawbacks\",\"vocal\",\"countdown\",\"investment\",\"semi\",\"satisfying\",\"laid\",\"sensitive\",\"advise\",\"saving\",\"wrote\",\"mailed\",\"words\",\"emailing\",\"gmail\",\"malleable\",\"swapping\",\"whatnot\",\"outpaced\",\"stereos\",\"novice\",\"placing\",\"overhead\",\"p\",\"module\",\"adhesion\",\"dismantled\",\"adidas\",\"teh\",\"plugger\",\"connecter\",\"closes\",\"convinient\",\"impossible\",\"girlfriends\",\"skullcandy\",\"indestructable\",\"casio\",\"beltclip\",\"1995\",\"lexus\",\"ls400\",\"presses\",\"stays\",\"intense\",\"outs\",\"adjusting\",\"needle\",\"lifeproof\",\"lightning\",\"basics\",\"wider\",\"shape\",\"reccomend\",\"nephew\",\"millennial\",\"younger\",\"boomer\",\"electronic\",\"viewed\",\"speak\",\"risk\",\"seeming\",\"crude\",\"manufacturers\",\"renaming\",\"pos\",\"liberal\",\"policy\",\"connotation\",\"towards\",\"dlc\",\"gentle\",\"laughable\",\"circuluar\",\"efficiently\",\"lap\",\"makeshift\",\"homework\",\"ease\",\"relax\",\"pressure\",\"pressing\",\"cleared\",\"none\",\"dagi\",\"p501\",\"swiping\",\"draging\",\"precise\",\"clicking\",\"icons\",\"auction\",\"named\",\"complicated\",\"splice\",\"brake\",\"reverse\",\"lazy\",\"scotchlock\",\"body\",\"sand\",\"paint\",\"nut\",\"bolt\",\"existing\",\"unused\",\"quibble\",\"inches\",\"anybody\",\"dremel\",\"flush\",\"instantaneous\",\"htc\",\"m8\",\"zip\",\"ties\",\"diy\",\"laws\",\"objects\",\"neat\",\"rolls\",\"quit\",\"tooth\",\"beneath\",\"backing\",\"appied\",\"previeous\",\"heeded\",\"e355\",\"web\",\"proud\",\"alright\",\"_\",\"30gb\",\"ten\",\"70\",\"sending\",\"child\",\"alones\",\"official\",\"ziplock\",\"secondly\",\"overlap\",\"gravity\",\"tearing\",\"birthday\",\"ass\",\"fourth\",\"st\",\"305\",\"become\",\"skill\",\"assembled\",\"effective\",\"resurrect\",\"spg555\",\"ridiculously\",\"pontiac\",\"printing\",\"pixellated\",\"printer\",\"group\",\"frankly\",\"embarrassed\",\"drunk\",\"gracious\",\"res\",\"reminded\",\"hah\",\"honestly\",\"lesson\",\"knockoffs\",\"push\",\"jones\",\"till\",\"keychain\",\"meh\",\"hardcore\",\"1080p\",\"640x480\",\"120\",\"width\",\"mid\",\"enoy\",\"booted\",\"unnerving\",\"wile\",\"meetings\",\"howe\",\"pinch\",\"circumstances\",\"xm\",\"rv\",\"boat\",\"ty\",\"unhappy\",\"tricked\",\"obcon\",\"r\",\"enterprises\",\"80\",\"witnessed\",\"brands\",\"250\",\"180\",\"360\",\"wont\",\"handles\",\"handling\",\"rumored\",\"boxing\",\"california\",\"canno\",\"console\",\"yaesu\",\"vx\",\"owner\",\"8gr\",\"ht\",\"vhf\",\"uhf\",\"repeater\",\"chats\",\"aprs\",\"reports\",\"rt\",\"programmming\",\"73\",\"bulls\",\"ewer\",\"desired\",\"2003\",\"allroad\",\"thoroughly\",\"december\",\"2010\",\"brilliant\",\"wore\",\"62stc\",\"tricky\",\"flap\",\"voil\\u00e0\",\"equipped\",\"01\",\"ford\",\"escort\",\"pioneer\",\"w\",\"surround\",\"nfc\",\"tap\",\"blaring\",\"bias\",\"labmate\",\"experiment\",\"accepts\",\"restriction\",\"casting\",\"dragon\",\"naturally\",\"term\",\"papers\",\"spider\",\"cage\",\"lastly\",\"dinner\",\"lanyard\",\"toe\",\"ouch\",\"theory\",\"atrix\",\"spring\",\"mechanism\",\"whichever\",\"horizontally\",\"vertically\",\"fallen\",\"heap\",\"fro\",\"softly\",\"environment\",\"2013\",\"elantra\",\"info\",\"pause\",\"drains\",\"swim\",\"swimming\",\"bundle\",\"suck\",\"30mins\",\"underwater\",\"traditional\",\"musician\",\"retrieve\",\"tne\",\"ebiz\",\"requirements\",\"reflect\",\"organized\",\"artist\",\"alphabetically\",\"titles\",\"tunes\",\"musicians\",\"arguing\",\"tune\",\"glitzy\",\"quicker\",\"native\",\"aug\",\"untrue\",\"325ic\",\"washed\",\"lens\",\"fisheye\",\"operation\",\"hardly\",\"overkill\",\"background\",\"beauty\",\"glitches\",\"boardcast\",\"wonder\",\"dough\",\"attachents\",\"winner\",\"transmittter\",\"kayak\",\"hull\",\"09\",\"malfunctioned\",\"requiring\",\"clock\",\"backside\",\"occasional\",\"contacting\",\"visual\",\"promising\",\"skulls\",\"goddy\",\"cuter\",\"inserting\",\"hardwired\",\"chanel\",\"cleverly\",\"tone\",\"kia\",\"rondo\",\"dealership\",\"shirt\",\"85\",\"sounding\",\"wise\",\"hike\",\"rain\",\"hell\",\"wet\",\"remembered\",\"raining\",\"dry\",\"temperature\",\"meter\",\"alarm\",\"chronometer\",\"95\",\"lucky\",\"ninja\",\"turtle\",\"g\",\"flashing\",\"ratio\",\"cares\",\"endless\",\"gem\",\"auxiliary\",\"03\",\"corolla\",\"simultaneously\",\"droid\",\"modifications\",\"spectacular\",\"ruunning\",\"rabit\",\"tvs\",\"filled\",\"novelty\",\"landfill\",\"qualities\",\"soundpal\",\"preordered\",\"excited\",\"constant\",\"48\",\"waist\",\"wj\",\"sight\",\"playlist\",\"indexes\",\"rewind\",\"changer\",\"bring\",\"beside\",\"mechanic\",\"wrapping\",\"triangle\",\"supports\",\"upright\",\"wary\",\"stage\",\"spaced\",\"regards\",\"assume\",\"july\",\"29th\",\"2014\",\"responding\",\"successful\",\"pictured\",\"altered\",\"proceed\",\"august\",\"solve\",\"costs\",\"opportunity\",\"productnly\",\"skipped\",\"installs\",\"philips\",\"minimalist\",\"netsuke\",\"attachment\",\"shipment\",\"waterfi\",\"became\",\"laps\",\"incredibly\",\"booming\",\"achieved\",\"submerged\",\"seals\",\"pool\",\"cap\",\"necessary\",\"ignition\",\"clerk\",\"agreed\",\"responsible\",\"transponder\",\"specifications\",\"idems\",\"tutorial\",\"shove\",\"visibility\",\"err\",\"receipients\",\"incomprehensible\",\"figuratively\",\"four\",\"recognized\",\"hopes\",\"technologically\",\"illiterate\",\"baffled\",\"lick\",\"batteryfly\",\"unavailable\",\"loads\",\"tem\",\"automated\",\"verbatim\",\"row\",\"greetings\",\"respond\",\"sincerely\",\"powerful\",\"smelled\",\"north\",\"carolina\",\"vanished\",\"quen\",\"shadow\",\"pratical\",\"wonderfull\",\"ms\",\"62c\",\"gto629\",\"unusual\",\"ixcc\",\"sneaker\",\"safety\",\"carrie\",\"conversation\",\"entertaining\",\"club\",\"vibe\",\"oprice\",\"nolong\",\"horrable\",\"intot\",\"broadcasting\",\"88\",\"instances\",\"los\",\"angeles\",\"downtown\",\"observed\",\"disturbance\",\"gear\",\"accord\",\"ex\",\"2007\",\"multifunction\",\"browse\",\"observe\",\"practices\",\"convey\",\"exchanged\",\"speedy\",\"discontinued\",\"2011\",\"imprint\",\"2v\",\"4v\",\"lacks\",\"apps\",\"floating\",\"21\",\"din\",\"smd\",\"distorting\",\"transom\",\"acquired\",\"scv\",\"doc1\",\"sad\",\"touched\",\"daly\",\"enclosure\",\"american\",\"tnt\",\"1044\",\"holycrap\",\"hho\",\"straightforward\",\"mechanical\",\"cyl\",\"willed\",\"obtain\",\"diagrams\",\"obd\",\"ii\",\"stoichiometry\",\"o2\",\"modified\",\"fuel\",\"scantool\",\"423001\",\"elmscan\",\"universal\",\"comfy\",\"gasket\",\"desperate\",\"fantasitc\",\"garden\",\"bars\",\"inchs\",\"supplier\",\"controller\",\"acid\",\"liquid\",\"electrolyte\",\"fleeze\",\"characteristics\",\"configured\",\"ppurpose\",\"jumpers\",\"configure\",\"mat\",\"agm\",\"transferred\",\"twenty\",\"explain\",\"misunderstanding\",\"apparent\",\"explanations\",\"lack\",\"understanding\",\"400\",\"panels\",\"ers\",\"gone\",\"logical\",\"controllers\",\"converters\",\"calling\",\"communicate\",\"splash\",\"masque\",\"entirely\",\"helped\",\"floral\",\"matches\",\"jacket\",\"33\",\"unlock\",\"navagation\",\"modification\",\"nephews\",\"boys\",\"practicing\",\"nooks\",\"understood\",\"collapse\",\"pill\",\"crackles\",\"distorts\",\"clips\",\"volumes\",\"incapable\",\"reproducing\",\"minuscule\",\"lowercase\",\"envy\",\"dre\",\"associated\",\"junky\",\"firm\",\"trail\",\"sneaks\",\"runners\",\"null\",\"void\",\"needless\",\"grateful\",\"fulfillment\",\"warranties\",\"fumbling\",\"shot\",\"summer\",\"concert\",\"guest\",\"appearance\",\"sadly\",\"transmitted\",\"circumventing\",\"private\",\"19\",\"sells\",\"lifetime\",\"revised\",\"pyleaudio\",\"inference\",\"sentence\",\"filter\",\"state\",\"knows\",\"2004\",\"outback\",\"pins\",\"rewire\",\"mfi\",\"fins\",\"bling\",\"snapping\",\"unstable\",\"billed\",\"joke\",\"bother\",\"restricting\",\"synch\",\"crooks\",\"knowing\",\"early\",\"versions\",\"sleeves\",\"ohio\",\"grad\",\"bleeds\",\"scarlet\",\"wobbly\",\"catch\",\"banging\",\"hush\",\"acer\",\"damaging\",\"inserted\",\"toothpick\",\"64gb\",\"fat32\",\"xfat\",\"ridgecrop\",\"consultants\",\"ltd\",\"demon\",\"uk\",\"formatter\",\"foreseeable\",\"drives\",\"hundreds\",\"gigs\",\"kidding\",\"dynoed\",\"1398\",\"cvr\",\"kickers\",\"comparing\",\"crunch\",\"1100\",\"gauge\",\"maximize\",\"collections\",\"cassettes\",\"plans\",\"editing\",\"equipement\",\"transfering\",\"yb\",\"planet\",\"estimated\",\"tuesday\",\"friday\",\"competitors\",\"somewhat\",\"relieved\",\"ph00\",\"screwdrivers\",\"tiny\",\"sided\",\"beginner\",\"elmer\",\"instant\",\"krazy\",\"flea\",\"tips\",\"4g\",\"millimeter\",\"effort\",\"gun\",\"knowledge\",\"fixing\",\"ps\",\"toomuch\",\"pps\",\"mobile\",\"baofeng\",\"wouxun\",\"vfo\",\"duplex\",\"v1\",\"5k\",\"squelch\",\"mac\",\"duck\",\"comfortably\",\"strength\",\"backward\",\"character\",\"alphabet\",\"shade\",\"serene\",\"wanting\",\"jogging\",\"slit\",\"tailored\",\"stretch\",\"piddly\",\"arms\",\"storm\",\"soaked\",\"resistant\",\"hurt\",\"cadillac\",\"obstructed\",\"freeway\",\"bumpy\",\"maintained\",\"opt\",\"occasions\",\"bump\",\"pothole\",\"significantly\",\"postings\",\"dumb\",\"outcome\",\"college\",\"attention\",\"tweek\",\"alittle\",\"vcr\",\"800watt\",\"hadle\",\"rigg\",\"iceshanty\",\"trim\",\"crown\",\"constructed\",\"offers\",\"remains\",\"handbag\",\"transmitters\",\"receptacle\",\"annoyance\",\"justify\",\"jl\",\"fried\",\"measured\",\"impedance\",\"multimeter\",\"w3v3\",\"ohm\",\"yield\",\"circuited\",\"teracing\",\"chalk\",\"presents\",\"outputs\",\"blu\",\"ray\",\"substance\",\"plummeted\",\"inductive\",\"wins\",\"acoustics\",\"admit\",\"plain\",\"packages\",\"picky\",\"ruin\",\"curtains\",\"tad\",\"sacrifice\",\"wilson\",\"2000\",\"sigma\",\"sufficiently\",\"express\",\"treeless\",\"agricultural\",\"dropouts\",\"periodically\",\"iraqi\",\"freedom\",\"harshest\",\"imaginable\",\"consistently\",\"military\",\"occasion\",\"withstood\",\"extreme\",\"performed\",\"deployed\",\"blowing\",\"elements\",\"ionizer\",\"glowing\",\"stuffing\",\"patent\",\"tank\",\"interested\",\"beer\",\"pong\",\"initial\",\"factor\",\"seeing\",\"flaws\",\"importantly\",\"unimpressive\",\"muffled\",\"sticky\",\"winding\",\"vibrating\",\"wind\",\"yanked\",\"discover\",\"unwind\",\"rock\",\"involved\",\"wears\",\"negatives\",\"workmanship\",\"magnet\",\"closure\",\"flopping\",\"notebook\",\"persons\",\"stealing\",\"prs\",\"505\",\"platform\",\"generaly\",\"initialy\",\"rocket\",\"supporting\",\"ebooks\",\"maintains\",\"accessing\",\"donation\",\"documented\",\"setups\",\"translating\",\"lrf\",\"bebook\",\"generating\",\"viewable\",\"adobe\",\"es\",\"muy\",\"bueno\",\"para\",\"ser\",\"verdad\",\"puedes\",\"escuchar\",\"musica\",\"en\",\"el\",\"telefono\",\"del\",\"obvio\",\"recibir\",\"hacer\",\"llamadas\",\"la\",\"bateria\",\"dura\",\"lo\",\"compatablity\",\"excellect\",\"walmart\",\"skinny\",\"hang\",\"centering\",\"sample\",\"centered\",\"temporary\",\"measure\",\"candidate\",\"perfection\",\"self\",\"mon\",\"dancing\",\"hilarious\",\"justin\",\"timberlake\",\"suit\",\"tie\",\"thug\",\"wu\",\"tang\",\"freezing\",\"skills\",\"artwork\",\"gas\",\"restart\",\"becoming\",\"known\",\"bothers\",\"vacation\",\"beach\",\"hood\",\"challenger\",\"sc60\",\"sc65\",\"coaxials\",\"infinity\",\"kappa\",\"p3200dvd\",\"rounded\",\"nailed\",\"genre\",\"mids\",\"shrill\",\"piercing\",\"builds\",\"dakota\",\"supply\",\"programmed\",\"clothing\",\"cranky\",\"vet\",\"manuals\",\"altogether\",\"flicker\",\"deader\",\"doornail\",\"informed\",\"opinion\",\"steer\",\"approved\",\"fyi\",\"perform\",\"phenomenally\",\"asin\",\"b001hn6jk4\",\"griffin\",\"7th\",\"ir\",\"keypad\",\"complements\",\"scroll\",\"preferably\",\"dream\",\"ematic\",\"traded\",\"messaging\",\"human\",\"tramsmitting\",\"unmatched\",\"graphic\",\"parametric\",\"equalizers\",\"delay\",\"excite\",\"silly\",\"brls\",\"tripod\",\"cups\",\"verses\",\"attaching\",\"heaviest\",\"consists\",\"vulcanized\",\"firmly\",\"nuts\",\"bolts\",\"specially\",\"rotated\",\"gopro\",\"140\",\"thumbscrew\",\"torque\",\"thumbscrews\",\"sunroofs\",\"headlights\",\"airplane\",\"conclusion\",\"met\",\"jambox\",\"roughness\",\"vibrates\",\"ot\",\"round\",\"badly\",\"translated\",\"generic\",\"burn\",\"liner\",\"wasting\",\"stupid\",\"wheeler\",\"snowmachine\",\"adjusts\",\"virtually\",\"photocopied\",\"instalation\",\"wery\",\"ace\",\"depot\",\"tho\",\"consulation\",\"insertion\",\"removal\",\"repeated\",\"mails\",\"necklace\",\"neck\",\"jacked\",\"rnb\",\"delivering\",\"103\",\"tax\",\"rebate\",\"balances\",\"geo\",\"shack\",\"audiophiles\",\"mornings\",\"alert\",\"mp3s\",\"palm\",\"pilot\",\"anyhoo\",\"toss\",\"sections\",\"letters\",\"ownership\",\"indicator\",\"collars\",\"indispensible\",\"hunting\",\"hounds\",\"persistently\",\"conventional\",\"collar\",\"hunter\",\"indevidual\",\"hound\",\"hung\",\"scent\",\"direct\",\"punched\",\"rubberized\",\"fiio\",\"w1\",\"packed\",\"reproach\",\"welcomed\",\"solver\",\"distant\",\"bravo\",\"appeal\",\"comments\",\"teenage\",\"downfall\",\"strokes\",\"quiker\",\"clicks\",\"beck\",\"cradles\",\"acts\",\"manueverability\",\"thicker\",\"bluetooths\",\"doc\",\"soul\",\"connectors\",\"decisions\",\"menus\",\"language\",\"duplicate\",\"5pf\",\"fray\",\"shed\",\"stretches\",\"backed\",\"carpet\",\"penny\",\"strive\",\"honorable\",\"proves\",\"husbands\",\"fortune\",\"syncs\",\"transport\",\"shake\",\"pulling\",\"accident\",\"pinkish\",\"purple\",\"coating\",\"wedge\",\"spatula\",\"twist\",\"separating\",\"ihome\",\"defender\",\"fulfills\",\"substantial\",\"furthermore\",\"pr\",\"starting\",\"sendstation\",\"avail\",\"cracking\",\"members\",\"weighty\",\"engineered\",\"amazingly\",\"punchy\",\"deep\",\"tables\",\"giant\",\"innovation\",\"junkies\",\"colorless\",\"tpu\",\"chrome\",\"tanks\",\"swapped\",\"3x\",\"4x\",\"plan\",\"news\",\"tuck\",\"fabulous\",\"shine\",\"tennis\",\"possession\",\"17\",\"asking\",\"reccomed\",\"imagined\",\"macworld\",\"strongly\",\"flaps\",\"1350\",\"exterior\",\"exist\",\"s5\",\"positioning\",\"fifth\",\"lifted\",\"powers\",\"handlebars\",\"dye\",\"rubs\",\"colored\",\"glitter\",\"sheds\",\"genuine\",\"measurements\",\"reflection\",\"tossed\",\"particularly\",\"rubbery\",\"breathe\",\"wearing\",\"driest\",\"sweaty\",\"hideous\",\"watchbands\",\"pdx\",\"f4\",\"birth\",\"certificates\",\"sincerelly\",\"statements\",\"influence\",\"comunication\",\"alien\",\"guard\",\"david\",\"h\",\"bathroom\",\"shower\",\"codes\",\"bay\",\"dis\",\"obtaining\",\"populated\",\"1998\",\"bmw\",\"528i\",\"e39\",\"indicating\",\"hassles\",\"rode\",\"hooks\",\"ken\",\"wrapper\",\"biggie\",\"plunger\",\"duration\",\"remarking\",\"cuteness\",\"difficulty\",\"concluding\",\"reviewer\",\"tub\",\"pretzels\",\"csn\",\"girft\",\"absolutley\",\"metronome\",\"tempo\",\"comparisons\",\"feed\",\"monitor\",\"tends\",\"gee\",\"engineering\"],\"x\":{\"__ndarray__\":\"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\",\"dtype\":\"float32\",\"shape\":[5000]},\"y\":{\"__ndarray__\":\"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\",\"dtype\":\"float32\",\"shape\":[5000]}},\"selected\":{\"id\":\"1034\",\"type\":\"Selection\"},\"selection_policy\":{\"id\":\"1033\",\"type\":\"UnionRenderers\"}},\"id\":\"1025\",\"type\":\"ColumnDataSource\"},{\"attributes\":{\"bottom_units\":\"screen\",\"fill_alpha\":{\"value\":0.5},\"fill_color\":{\"value\":\"lightgrey\"},\"left_units\":\"screen\",\"level\":\"overlay\",\"line_alpha\":{\"value\":1.0},\"line_color\":{\"value\":\"black\"},\"line_dash\":[4,4],\"line_width\":{\"value\":2},\"render_mode\":\"css\",\"right_units\":\"screen\",\"top_units\":\"screen\"},\"id\":\"1032\",\"type\":\"BoxAnnotation\"},{\"attributes\":{\"fill_color\":{\"value\":\"#1f77b4\"},\"line_color\":{\"value\":\"#1f77b4\"},\"x\":{\"field\":\"x\"},\"y\":{\"field\":\"y\"}},\"id\":\"1027\",\"type\":\"Scatter\"},{\"attributes\":{\"text\":\"A map/plot of 5000 word vectors\"},\"id\":\"1002\",\"type\":\"Title\"},{\"attributes\":{\"callback\":null},\"id\":\"1004\",\"type\":\"DataRange1d\"},{\"attributes\":{\"data_source\":{\"id\":\"1025\",\"type\":\"ColumnDataSource\"},\"glyph\":{\"id\":\"1027\",\"type\":\"Scatter\"},\"hover_glyph\":null,\"muted_glyph\":null,\"nonselection_glyph\":{\"id\":\"1028\",\"type\":\"Scatter\"},\"selection_glyph\":null,\"view\":{\"id\":\"1030\",\"type\":\"CDSView\"}},\"id\":\"1029\",\"type\":\"GlyphRenderer\"},{\"attributes\":{\"source\":{\"id\":\"1025\",\"type\":\"ColumnDataSource\"}},\"id\":\"1030\",\"type\":\"CDSView\"},{\"attributes\":{\"callback\":null},\"id\":\"1006\",\"type\":\"DataRange1d\"},{\"attributes\":{},\"id\":\"1034\",\"type\":\"Selection\"},{\"attributes\":{},\"id\":\"1008\",\"type\":\"LinearScale\"},{\"attributes\":{},\"id\":\"1010\",\"type\":\"LinearScale\"},{\"attributes\":{},\"id\":\"1012\",\"type\":\"PanTool\"},{\"attributes\":{\"active_drag\":\"auto\",\"active_inspect\":\"auto\",\"active_multi\":null,\"active_scroll\":\"auto\",\"active_tap\":\"auto\",\"tools\":[{\"id\":\"1012\",\"type\":\"PanTool\"},{\"id\":\"1013\",\"type\":\"WheelZoomTool\"},{\"id\":\"1014\",\"type\":\"BoxZoomTool\"},{\"id\":\"1015\",\"type\":\"ResetTool\"},{\"id\":\"1016\",\"type\":\"HoverTool\"},{\"id\":\"1017\",\"type\":\"SaveTool\"}]},\"id\":\"1018\",\"type\":\"Toolbar\"}],\"root_ids\":[\"1001\"]},\"title\":\"Bokeh Application\",\"version\":\"1.4.0\"}};\n",
              "  var render_items = [{\"docid\":\"5d145e36-ab9e-4e18-950c-765a89cff5ad\",\"roots\":{\"1001\":\"d600b2ea-724e-4d0e-89d4-f47cc5d22b64\"}}];\n",
              "  root.Bokeh.embed.embed_items_notebook(docs_json, render_items);\n",
              "\n",
              "  }\n",
              "  if (root.Bokeh !== undefined) {\n",
              "    embed_document(root);\n",
              "  } else {\n",
              "    var attempts = 0;\n",
              "    var timer = setInterval(function(root) {\n",
              "      if (root.Bokeh !== undefined) {\n",
              "        clearInterval(timer);\n",
              "        embed_document(root);\n",
              "      } else {\n",
              "        attempts++;\n",
              "        if (attempts > 100) {\n",
              "          clearInterval(timer);\n",
              "          console.log(\"Bokeh: ERROR: Unable to run BokehJS code because BokehJS library is missing\");\n",
              "        }\n",
              "      }\n",
              "    }, 10, root)\n",
              "  }\n",
              "})(window);"
            ],
            "application/vnd.bokehjs_exec.v0+json": ""
          },
          "metadata": {
            "tags": [],
            "application/vnd.bokehjs_exec.v0+json": {
              "id": "1001"
            }
          }
        }
      ]
    },
    {
      "cell_type": "code",
      "metadata": {
        "id": "oMkFV02GKG0c",
        "colab_type": "code",
        "colab": {
          "base_uri": "https://localhost:8080/",
          "height": 71
        },
        "outputId": "c24f8096-54fd-456f-b017-27a8c1d45d97"
      },
      "source": [
        "#Save word embedding model\n",
        "model_file = 'amazon_reviews_word2vec_embedding.txt'\n",
        "model.wv.save_word2vec_format(model_file, binary=False)"
      ],
      "execution_count": 20,
      "outputs": [
        {
          "output_type": "stream",
          "text": [
            "/usr/local/lib/python3.6/dist-packages/smart_open/smart_open_lib.py:253: UserWarning: This function is deprecated, use smart_open.open instead. See the migration notes for details: https://github.com/RaRe-Technologies/smart_open/blob/master/README.rst#migrating-to-the-new-open-function\n",
            "  'See the migration notes for details: %s' % _MIGRATION_NOTES_URL\n"
          ],
          "name": "stderr"
        }
      ]
    },
    {
      "cell_type": "markdown",
      "metadata": {
        "id": "s4AOKaG_NAQ1",
        "colab_type": "text"
      },
      "source": [
        "**Creating and trained embedding layer with pretrained weights**"
      ]
    },
    {
      "cell_type": "code",
      "metadata": {
        "id": "xyViZKKvUroo",
        "colab_type": "code",
        "colab": {}
      },
      "source": [
        "from sklearn.model_selection import train_test_split\n",
        "X_train,X_test,Y_train,Y_test = train_test_split(data['text'],data['sentiment'],test_size=0.20)"
      ],
      "execution_count": 22,
      "outputs": []
    },
    {
      "cell_type": "code",
      "metadata": {
        "id": "EazjeLt5VRcH",
        "colab_type": "code",
        "colab": {}
      },
      "source": [
        "#train_test split\n",
        "x_tr, y_tr = X_train.values, Y_train.values\n",
        "x_val, y_val = X_test.values, Y_test.values"
      ],
      "execution_count": 23,
      "outputs": []
    },
    {
      "cell_type": "code",
      "metadata": {
        "id": "QMfcxZJ0UyGz",
        "colab_type": "code",
        "colab": {}
      },
      "source": [
        "import pickle\n",
        "from keras.preprocessing.text import Tokenizer\n",
        "from keras.preprocessing.sequence import pad_sequences\n",
        "\n",
        "#Tokenize the sentences\n",
        "tokenizer = Tokenizer()\n",
        "\n",
        "#preparing vocabulary\n",
        "tokenizer.fit_on_texts(list(x_tr))\n",
        "pickle.dump({'tokens':tokenizer},open( \"/content/tokens_data\", \"wb\" ))\n",
        "\n",
        "#converting text into integer sequences\n",
        "x_tr_seq  = tokenizer.texts_to_sequences(x_tr) \n",
        "x_val_seq = tokenizer.texts_to_sequences(x_val)\n",
        "\n",
        "#padding to prepare sequences of same length\n",
        "x_tr_seq  = pad_sequences(x_tr_seq, maxlen=100)\n",
        "x_val_seq = pad_sequences(x_val_seq, maxlen=100)"
      ],
      "execution_count": 35,
      "outputs": []
    },
    {
      "cell_type": "code",
      "metadata": {
        "id": "s0CvLHm3WCLg",
        "colab_type": "code",
        "colab": {
          "base_uri": "https://localhost:8080/",
          "height": 34
        },
        "outputId": "ac46cb6c-4f7d-49ce-dcb8-edc0097cc7a3"
      },
      "source": [
        "size_of_vocabulary=len(tokenizer.word_index) + 1 #+1 for padding\n",
        "print(size_of_vocabulary)"
      ],
      "execution_count": 25,
      "outputs": [
        {
          "output_type": "stream",
          "text": [
            "53579\n"
          ],
          "name": "stdout"
        }
      ]
    },
    {
      "cell_type": "code",
      "metadata": {
        "id": "tl_aVX_nWeKF",
        "colab_type": "code",
        "colab": {
          "base_uri": "https://localhost:8080/",
          "height": 34
        },
        "outputId": "f0426584-2613-4da9-974f-5b4c8ddecca0"
      },
      "source": [
        "# load the whole embedding into memory\n",
        "embeddings_index = dict()\n",
        "f = open(model_file)\n",
        "\n",
        "for line in f:\n",
        "    values = line.split()\n",
        "    word = values[0]\n",
        "    coefs = np.asarray(values[1:], dtype='float32')\n",
        "    embeddings_index[word] = coefs\n",
        "\n",
        "f.close()\n",
        "print('Loaded %s word vectors.' % len(embeddings_index))"
      ],
      "execution_count": 26,
      "outputs": [
        {
          "output_type": "stream",
          "text": [
            "Loaded 56137 word vectors.\n"
          ],
          "name": "stdout"
        }
      ]
    },
    {
      "cell_type": "code",
      "metadata": {
        "id": "x2DFFrApWk1Y",
        "colab_type": "code",
        "colab": {}
      },
      "source": [
        "# create a weight matrix for words in training docs\n",
        "embedding_matrix = np.zeros((size_of_vocabulary, 100))\n",
        "\n",
        "for word, i in tokenizer.word_index.items():\n",
        "    embedding_vector = embeddings_index.get(word)\n",
        "    if embedding_vector is not None:\n",
        "        embedding_matrix[i] = embedding_vector"
      ],
      "execution_count": 27,
      "outputs": []
    },
    {
      "cell_type": "code",
      "metadata": {
        "id": "75Qc9D59MrFN",
        "colab_type": "code",
        "colab": {
          "base_uri": "https://localhost:8080/",
          "height": 340
        },
        "outputId": "8deb191f-0476-44d9-e8cb-ef4a1619136d"
      },
      "source": [
        "\n",
        "#deep learning library\n",
        "from keras.models import *\n",
        "from keras.layers import *\n",
        "from keras.callbacks import *\n",
        "model=Sequential()\n",
        "\n",
        "#embedding layer\n",
        "model.add(Embedding(size_of_vocabulary,100,weights=[embedding_matrix],input_length=100,trainable=False)) \n",
        "\n",
        "#lstm layer\n",
        "model.add(LSTM(128,return_sequences=True,dropout=0.2))\n",
        "\n",
        "#Global Maxpooling\n",
        "model.add(GlobalMaxPooling1D())\n",
        "\n",
        "#Dense Layer\n",
        "model.add(Dense(64,activation='relu')) \n",
        "model.add(Dense(1,activation='sigmoid')) \n",
        "\n",
        "#Add loss function, metrics, optimizer\n",
        "model.compile(optimizer='adam', loss='binary_crossentropy',metrics=[\"acc\"]) \n",
        "\n",
        "#Adding callbacks\n",
        "es = EarlyStopping(monitor='val_loss', mode='min', verbose=1,patience=3)  \n",
        "mc=ModelCheckpoint('best_model.h5', monitor='val_acc', mode='max', save_best_only=True,verbose=1)  \n",
        "\n",
        "#Print summary of model\n",
        "print(model.summary())"
      ],
      "execution_count": 29,
      "outputs": [
        {
          "output_type": "stream",
          "text": [
            "Model: \"sequential_1\"\n",
            "_________________________________________________________________\n",
            "Layer (type)                 Output Shape              Param #   \n",
            "=================================================================\n",
            "embedding_1 (Embedding)      (None, 100, 100)          5357900   \n",
            "_________________________________________________________________\n",
            "lstm_1 (LSTM)                (None, 100, 128)          117248    \n",
            "_________________________________________________________________\n",
            "global_max_pooling1d_1 (Glob (None, 128)               0         \n",
            "_________________________________________________________________\n",
            "dense_1 (Dense)              (None, 64)                8256      \n",
            "_________________________________________________________________\n",
            "dense_2 (Dense)              (None, 1)                 65        \n",
            "=================================================================\n",
            "Total params: 5,483,469\n",
            "Trainable params: 125,569\n",
            "Non-trainable params: 5,357,900\n",
            "_________________________________________________________________\n",
            "None\n"
          ],
          "name": "stdout"
        }
      ]
    },
    {
      "cell_type": "code",
      "metadata": {
        "id": "_5lbpnFMM3Y-",
        "colab_type": "code",
        "colab": {
          "base_uri": "https://localhost:8080/",
          "height": 615
        },
        "outputId": "9ebf97c5-441a-41a6-eb2d-35fc742b7df6"
      },
      "source": [
        "history = model.fit(np.array(x_tr_seq),np.array(y_tr),batch_size=128,epochs=10,validation_data=(np.array(x_val_seq),np.array(y_val)),verbose=1,callbacks=[es,mc])"
      ],
      "execution_count": 30,
      "outputs": [
        {
          "output_type": "stream",
          "text": [
            "Train on 83979 samples, validate on 20995 samples\n",
            "Epoch 1/10\n",
            "83979/83979 [==============================] - 209s 2ms/step - loss: 0.3675 - acc: 0.8368 - val_loss: 0.3255 - val_acc: 0.8596\n",
            "\n",
            "Epoch 00001: val_acc improved from -inf to 0.85959, saving model to best_model.h5\n",
            "Epoch 2/10\n",
            "83979/83979 [==============================] - 197s 2ms/step - loss: 0.3239 - acc: 0.8602 - val_loss: 0.3094 - val_acc: 0.8686\n",
            "\n",
            "Epoch 00002: val_acc improved from 0.85959 to 0.86864, saving model to best_model.h5\n",
            "Epoch 3/10\n",
            "83979/83979 [==============================] - 198s 2ms/step - loss: 0.3027 - acc: 0.8701 - val_loss: 0.3216 - val_acc: 0.8592\n",
            "\n",
            "Epoch 00003: val_acc did not improve from 0.86864\n",
            "Epoch 4/10\n",
            "83979/83979 [==============================] - 198s 2ms/step - loss: 0.2894 - acc: 0.8768 - val_loss: 0.2963 - val_acc: 0.8754\n",
            "\n",
            "Epoch 00004: val_acc improved from 0.86864 to 0.87545, saving model to best_model.h5\n",
            "Epoch 5/10\n",
            "83979/83979 [==============================] - 198s 2ms/step - loss: 0.2791 - acc: 0.8826 - val_loss: 0.2933 - val_acc: 0.8766\n",
            "\n",
            "Epoch 00005: val_acc improved from 0.87545 to 0.87659, saving model to best_model.h5\n",
            "Epoch 6/10\n",
            "83979/83979 [==============================] - 198s 2ms/step - loss: 0.2677 - acc: 0.8889 - val_loss: 0.2962 - val_acc: 0.8753\n",
            "\n",
            "Epoch 00006: val_acc did not improve from 0.87659\n",
            "Epoch 7/10\n",
            "83979/83979 [==============================] - 199s 2ms/step - loss: 0.2610 - acc: 0.8917 - val_loss: 0.2952 - val_acc: 0.8760\n",
            "\n",
            "Epoch 00007: val_acc did not improve from 0.87659\n",
            "Epoch 8/10\n",
            "83979/83979 [==============================] - 200s 2ms/step - loss: 0.2515 - acc: 0.8955 - val_loss: 0.2966 - val_acc: 0.8777\n",
            "\n",
            "Epoch 00008: val_acc improved from 0.87659 to 0.87769, saving model to best_model.h5\n",
            "Epoch 00008: early stopping\n"
          ],
          "name": "stdout"
        }
      ]
    },
    {
      "cell_type": "code",
      "metadata": {
        "id": "36eiPsFZPGuh",
        "colab_type": "code",
        "colab": {
          "base_uri": "https://localhost:8080/",
          "height": 51
        },
        "outputId": "1a1dfd09-2f12-4f20-a21f-1d4d40b929bb"
      },
      "source": [
        "#loading best model\n",
        "from keras.models import load_model\n",
        "model = load_model('best_model.h5')\n",
        "\n",
        "#evaluation \n",
        "_,val_acc = model.evaluate(x_val_seq,y_val, batch_size=128)\n",
        "print(val_acc)"
      ],
      "execution_count": 31,
      "outputs": [
        {
          "output_type": "stream",
          "text": [
            "20995/20995 [==============================] - 4s 182us/step\n",
            "0.8776851892471313\n"
          ],
          "name": "stdout"
        }
      ]
    },
    {
      "cell_type": "code",
      "metadata": {
        "id": "T_8pb3gwlaWy",
        "colab_type": "code",
        "colab": {}
      },
      "source": [
        "pred_text=\"worst product.\"\n",
        "pred_data=pd.Series(pred_text)\n",
        "x_tr=pred_data.values\n",
        "max_words = size_of_vocabulary\n",
        "max_len = 100"
      ],
      "execution_count": 48,
      "outputs": []
    },
    {
      "cell_type": "code",
      "metadata": {
        "id": "jeSwkgL5jKWU",
        "colab_type": "code",
        "colab": {}
      },
      "source": [
        "data = pickle.load( open( \"tokens_data\", \"rb\" ) )\n",
        "tokens=data['tokens']"
      ],
      "execution_count": 49,
      "outputs": []
    },
    {
      "cell_type": "code",
      "metadata": {
        "id": "zXZ5bPL5j504",
        "colab_type": "code",
        "colab": {}
      },
      "source": [
        "x_tr_seq  = tokens.texts_to_sequences(x_tr) "
      ],
      "execution_count": 50,
      "outputs": []
    },
    {
      "cell_type": "code",
      "metadata": {
        "id": "nynVByHyl1ml",
        "colab_type": "code",
        "colab": {}
      },
      "source": [
        "x_tr_seq  = pad_sequences(x_tr_seq, maxlen=100)"
      ],
      "execution_count": 51,
      "outputs": []
    },
    {
      "cell_type": "code",
      "metadata": {
        "id": "Jcgk3lOCl9CY",
        "colab_type": "code",
        "colab": {
          "base_uri": "https://localhost:8080/",
          "height": 34
        },
        "outputId": "8841594a-7c06-4ded-b168-f5b8fe15cdc6"
      },
      "source": [
        "model.predict(x_tr_seq)"
      ],
      "execution_count": 52,
      "outputs": [
        {
          "output_type": "execute_result",
          "data": {
            "text/plain": [
              "array([[0.001227]], dtype=float32)"
            ]
          },
          "metadata": {
            "tags": []
          },
          "execution_count": 52
        }
      ]
    },
    {
      "cell_type": "code",
      "metadata": {
        "id": "s01SAa4FmF4f",
        "colab_type": "code",
        "colab": {}
      },
      "source": [
        ""
      ],
      "execution_count": null,
      "outputs": []
    }
  ]
}